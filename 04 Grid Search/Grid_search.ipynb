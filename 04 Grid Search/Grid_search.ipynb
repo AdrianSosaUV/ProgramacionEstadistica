{
 "cells": [
  {
   "cell_type": "code",
   "execution_count": null,
   "metadata": {},
   "outputs": [],
   "source": [
    "import numpy as np \n",
    "import pandas as pd \n",
    "import math "
   ]
  },
  {
   "cell_type": "code",
   "execution_count": null,
   "metadata": {},
   "outputs": [],
   "source": [
    "def dfsearch(dominio, Fx, l=0, b=1, type=\"min\", D=None, x=None, msol=None):\n",
    "\t\"\"\"Método de busqueda ciega completa \n",
    "\tHalla la solucion de la función Fx en el espacio de busqueda.\n",
    "\tArgumentos\n",
    "\t----------\n",
    "\tFx - Función\n",
    "\tdominio - Espacio de busqueda, Matrix(MxN)\n",
    "\tl - Nivel del arbol\n",
    "\tb - Rama del arbol\n",
    "\ttype (opcional) - Tipo de optimización\n",
    "\tD - Dimensión (numero de variables)\n",
    "\tx - vector de posibles soluciones\n",
    "\tmsol - mejor solucion actual \n",
    "\t\n",
    "\tDevuelve\n",
    "\t--------\n",
    "\tx - Solucion de la funcion Fx en el espacio de busqueda\n",
    "\t\"\"\"\n",
    "\tif (not type == \"min\" and not type == \"max\"):\n",
    "\t\traise ValueError(\"Metodo de optimización no valido\")\n",
    "\n",
    "\tD = len(dominio) if D == None else D\n",
    "\tx = [None]*len(dominio) if x== None else x\n",
    "\tmsol = ([None, float('inf')]if type==\"min\" else [None, float('-inf')]) if msol == None else msol\n",
    "\tif ((l-1)==D):\n",
    "\t\tf = pd.DataFrame((dominio))\n",
    "\t\tf = f.apply(Fx)\n",
    "\t\tfb = msol[1]\n",
    "\t\tib = np.min(f) if type == \"min\" else np.max(f)\n",
    "\t\tib = sorted(ib, reverse=True)[0]\n",
    "\t\treturn np.min(msol[0]) if ib==1 else x\n",
    "\telse:\n",
    "\t\tfor j in range(len(dominio)):\n",
    "\t\t\tx[l-1]= dominio[l-1][j]\n",
    "\t\t\tmsol = dfsearch(dominio, Fx, l+1, j, type, x=x, msol=msol)\n",
    "\t\treturn msol"
   ]
  },
  {
   "cell_type": "code",
   "execution_count": null,
   "metadata": {},
   "outputs": [],
   "source": [
    "def GridSearch(step, lower, upper, Fx, type=\"min\"):\n",
    "    \"\"\"\tMetodo estandar de busqueda en malla\n",
    "\tArgumentos\n",
    "\t----------\n",
    "\tstep - vector con tamaño de paso para cada dimensión D\n",
    "\tlower - vector con valores más bajos para cada dimensión\n",
    "\tupper - vector con valores más altos para cada dimensión\n",
    "\tFx - Función a evaluar\n",
    "\ttype (opcional) - Tipo de optimización \n",
    "\t\n",
    "\tDevuelve\n",
    "\t--------\n",
    "\tx - Vector solucion de la funcion Fx\n",
    "\t\"\"\"\n",
    "    D=len(step)\n",
    "    dominio = [None] * D\n",
    "    for i in range(D):\n",
    "        dominio[i]= np.arange(lower[i], upper[i], step[i])\n",
    "    return dfsearch(dominio, Fx, type=type)"
   ]
  },
  {
   "cell_type": "code",
   "execution_count": null,
   "metadata": {},
   "outputs": [],
   "source": [
    "# defino los vectores de inicio\n",
    "var = 5\n",
    "upper = [1000]*var\n",
    "lower = [1]*var\n",
    "step = [50]*var"
   ]
  },
  {
   "cell_type": "code",
   "execution_count": null,
   "metadata": {},
   "outputs": [],
   "source": [
    "#defino las ecuaciones a evaluar y sus derivadas \n",
    "def f1(x):\n",
    "    return -pow(x,5)+ pow(x,4) + x\n",
    "\n",
    "def f2(x):\n",
    "    return pow(x,3) + pow(x,2) -10 \n",
    "\n",
    "def f3(x):\n",
    "    return -pow(x,2) + 10*x -2\n",
    "\n",
    "def f4(x):\n",
    "    return pow(x,4) + 4*pow(x,2) -10\n",
    "\n",
    "def f5(x):\n",
    "    return math.sin(x+5) + pow((x-2),2) - 1.5 *x \n",
    "\n",
    "def f6(x):\n",
    "    return - math.sin(x) + 2*x\n",
    "\n",
    "def f7(x):\n",
    "    return - math.cos(x) + math.sin(x) \n",
    "\n",
    "def f8(x):\n",
    "    return pow((x-7),3) + pow ((2*x-5),2) \n"
   ]
  },
  {
   "cell_type": "code",
   "execution_count": null,
   "metadata": {},
   "outputs": [],
   "source": [
    "resultado = GridSearch(step, lower, upper, f2,\"min\")\n",
    "print(resultado)"
   ]
  },
  {
   "cell_type": "code",
   "execution_count": null,
   "metadata": {},
   "outputs": [],
   "source": [
    "eval = f2(resultado[0])"
   ]
  },
  {
   "cell_type": "code",
   "execution_count": null,
   "metadata": {},
   "outputs": [],
   "source": [
    "print(eval)"
   ]
  },
  {
   "cell_type": "code",
   "execution_count": null,
   "metadata": {},
   "outputs": [],
   "source": [
    "print(\"x: \",resultado[0])\n",
    "print(\"y: \",eval)"
   ]
  },
  {
   "cell_type": "code",
   "execution_count": null,
   "metadata": {},
   "outputs": [],
   "source": []
  }
 ],
 "metadata": {
  "kernelspec": {
   "display_name": "Python 3",
   "language": "python",
   "name": "python3"
  }
 },
 "nbformat": 4,
 "nbformat_minor": 2
}
