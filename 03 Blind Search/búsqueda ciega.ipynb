{
 "cells": [
  {
   "cell_type": "code",
   "execution_count": 8,
   "metadata": {},
   "outputs": [],
   "source": [
    "import numpy as np\n",
    "import pandas as pd\n",
    "import math \n",
    "import matplotlib.pyplot as plt "
   ]
  },
  {
   "cell_type": "code",
   "execution_count": 24,
   "metadata": {},
   "outputs": [],
   "source": [
    "def fsearch(Fx, sol, type=\"min\"):\n",
    "\t\"\"\"Método de busqueda ciega\n",
    "\tHalla la solucion de la función Fx en el espacio de busqueda.\n",
    "\tArgumentos\n",
    "\t----------\n",
    "\tFx - Función\n",
    "\tsol - Espacio de busqueda, Matrix(MxN)\n",
    "\ttype (opcional) - Tipo de optimización\n",
    "\n",
    "\tDevuelve\n",
    "\t--------\n",
    "\tx - Solucion de la funcion Fx en el espacio de busqueda\n",
    "\t\"\"\"\n",
    "\tif (not type == \"min\" and not type == \"max\"):\n",
    "\t\traise ValueError(\"Metodo de optimización no valido\")\n",
    "\n",
    "\tx = pd.DataFrame((sol))\n",
    "\ty = x.apply(Fx,1)\n",
    "\tprint(y)\n",
    "\tib = np.min(y) if type == \"min\" else np.max(y)\n",
    "\treturn ib[0]"
   ]
  },
  {
   "cell_type": "code",
   "execution_count": 10,
   "metadata": {},
   "outputs": [],
   "source": [
    "def newt(Fx,Fx1, p0, iters=50 , tol = 1.0e-6):\n",
    "    for i in range(iters):\n",
    "        p0= float(p0)\n",
    "        p = p0 - (Fx(p0)/Fx1(p0))\n",
    "\n",
    "        if abs(p - p0)< tol:\n",
    "            return float(p)\n",
    "            break\n",
    "        else:\n",
    "            i += 1\n",
    "            p0=p"
   ]
  },
  {
   "cell_type": "code",
   "execution_count": 11,
   "metadata": {},
   "outputs": [],
   "source": [
    "def espacio(m, r1, r2):\n",
    "\tdat = np.zeros((m,m))\n",
    "\tfor i in range(m):\n",
    "\t\tfor j in range(m):\n",
    "\t\t\tdat[i][j] = np.random.randint(r1, r2)\n",
    "\treturn dat"
   ]
  },
  {
   "cell_type": "code",
   "execution_count": 12,
   "metadata": {},
   "outputs": [],
   "source": [
    "def f(x):\n",
    "\treturn pow((x-7),3)+ pow((2*x-5),2)"
   ]
  },
  {
   "cell_type": "code",
   "execution_count": 13,
   "metadata": {},
   "outputs": [],
   "source": [
    "def f1(x):\n",
    "    return pow(x,3)+ 4*pow(x,2)-10"
   ]
  },
  {
   "cell_type": "code",
   "execution_count": 14,
   "metadata": {},
   "outputs": [],
   "source": [
    "def df(x):\n",
    "\t'''Derivada de la funcion, 3x^2 + 8x '''\n",
    "\treturn pow((3*x-21),2)+ (4*x-10)"
   ]
  },
  {
   "cell_type": "code",
   "execution_count": 25,
   "metadata": {},
   "outputs": [
    {
     "name": "stdout",
     "output_type": "stream",
     "text": [
      "       0      1      2      3      4\n",
      "0   17.0 -124.0 -124.0  -18.0   17.0\n",
      "1 -207.0 -124.0 -207.0 -207.0   17.0\n",
      "2 -124.0  -63.0   17.0  -18.0   17.0\n",
      "3  -63.0 -124.0 -207.0  -63.0 -124.0\n",
      "4  -63.0  -18.0 -207.0   17.0 -207.0\n",
      "4.489219918227087\n"
     ]
    }
   ],
   "source": [
    "\n",
    "a = 1\n",
    "b = 6\n",
    "\n",
    "x = np.arange(a,b, 0.01)\n",
    "y = [f(k) for k in x]\n",
    "raiz =  newt(f, df, b)\n",
    "metodo= fsearch(f,espacio(5,a,b))\n",
    "print(raiz)\n"
   ]
  },
  {
   "cell_type": "code",
   "execution_count": 26,
   "metadata": {},
   "outputs": [
    {
     "data": {
      "image/png": "[encoded data removed]",
      "text/plain": [
       "<Figure size 432x288 with 1 Axes>"
      ]
     },
     "metadata": {
      "needs_background": "light"
     },
     "output_type": "display_data"
    },
    {
     "name": "stdout",
     "output_type": "stream",
     "text": [
      "x: -207.0\n",
      "y: -9624783.0\n"
     ]
    }
   ],
   "source": [
    "plt.annotate('Raiz', xy=(raiz, 0), xytext=(raiz,0.5),\n",
    "           arrowprops=dict(facecolor='red'))\n",
    "plt.annotate('Minimo', xy=((f(metodo)/1000000)*-1, metodo), xytext=((f(metodo)/1000000)*-1, metodo+0.5),\n",
    "           arrowprops=dict(facecolor='blue'))\n",
    "plt.plot(x,y)\n",
    "plt.grid()\n",
    "plt.show()\n",
    "print(\"x: {}\".format(metodo))\n",
    "print(\"y: {}\".format(f(metodo)))"
   ]
  },
  {
   "cell_type": "code",
   "execution_count": 19,
   "metadata": {},
   "outputs": [
    {
     "data": {
      "text/plain": [
       "65536"
      ]
     },
     "execution_count": 19,
     "metadata": {},
     "output_type": "execute_result"
    }
   ],
   "source": [
    "pow(2,16)"
   ]
  },
  {
   "cell_type": "code",
   "execution_count": null,
   "metadata": {},
   "outputs": [],
   "source": []
  }
 ],
 "metadata": {
  "kernelspec": {
   "display_name": "Python 3",
   "language": "python",
   "name": "python3"
  },
  "language_info": {
   "codemirror_mode": {
    "name": "ipython",
    "version": 3
   },
   "file_extension": ".py",
   "mimetype": "text/x-python",
   "name": "python",
   "nbconvert_exporter": "python",
   "pygments_lexer": "ipython3",
   "version": "3.7.3"
  }
 },
 "nbformat": 4,
 "nbformat_minor": 2
}
