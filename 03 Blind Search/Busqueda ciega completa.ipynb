{
 "cells": [
  {
   "cell_type": "code",
   "execution_count": 1,
   "metadata": {},
   "outputs": [],
   "source": [
    "import pandas as pd\n",
    "import numpy as np \n",
    "import math"
   ]
  },
  {
   "cell_type": "code",
   "execution_count": 2,
   "metadata": {},
   "outputs": [],
   "source": [
    "def BCC(dominio, Fx, l=0, b=0, type=\"min\", D=None, x=None, msol=None):\n",
    "\t\"\"\"Método de busqueda ciega completa \n",
    "\tHalla la solucion de la función Fx en el espacio de busqueda.\n",
    "\tArgumentos\n",
    "\t----------\n",
    "\tFx - Función\n",
    "\tdominio - Espacio de busqueda, Matrix(MxN)\n",
    "\tl - Nivel del arbol\n",
    "\tb - Rama del arbol\n",
    "\ttype (opcional) - Tipo de optimización\n",
    "\tD - Dimensión (numero de variables)\n",
    "\tx - vector de posibles soluciones\n",
    "\tmsol - mejor solucion actual \n",
    "\t\n",
    "\tDevuelve\n",
    "\t--------\n",
    "\tx - Solucion de la funcion Fx en el espacio de busqueda\n",
    "\t\"\"\"\n",
    "\tif (not type == \"min\" and not type == \"max\"):\n",
    "\t\traise ValueError(\"Metodo de optimización no valido\")\n",
    "\n",
    "\tD = len(dominio) if D == None else D\n",
    "\tx = [None]*len(dominio) if x== None else x\n",
    "\tmsol = ([None, float('inf')]if type==\"min\" else [None, float('-inf')]) if msol == None else msol  \n",
    "\n",
    "    if ((l-1)==D):\n",
    "\t\tf = pd.DataFrame((dominio))\n",
    "\t\tf = f.apply(Fx)\n",
    "\t\tfb = msol[1]\n",
    "\t\tib = np.min(f) if type == \"min\" else np.max(f)\n",
    "\t\tib = sorted(ib, reverse=True)[0]\n",
    "\t\treturn np.min(msol[0]) if ib==1 else x\n",
    "    else:\n",
    "\t\tfor j in range(len(dominio)):\n",
    "\t\t\tx[l-1]= dominio[l-1][j]\n",
    "\t\t\tmsol = BCC(dominio, Fx, l+1, j, type, x=x, msol=msol)\n",
    "\t\treturn msol"
   ]
  },
  {
   "cell_type": "code",
   "execution_count": 3,
   "metadata": {},
   "outputs": [],
   "source": [
    "#defino las ecuaciones a evaluar y sus derivadas \n",
    "def f1(x):\n",
    "    return -pow(x,5)+ pow(x,4) + x\n",
    "\n",
    "def df1(x):\n",
    "    return -5*pow(x,4)+ 4*pow(x,3)+1 \n",
    "\n",
    "def f2(x):\n",
    "    return pow(x,3) + pow(x,2) -10 \n",
    "\n",
    "def df2(x):\n",
    "    return 3*pow(x,2) + 2*x\n",
    "\n",
    "def f3(x):\n",
    "    return -pow(x,2) + 10*x -2\n",
    "\n",
    "def df3(x):\n",
    "    return -2*x + 10 \n",
    "\n",
    "def f4(x):\n",
    "    return pow(x,4) + 4*pow(x,2) -10\n",
    "\n",
    "def df4(x):\n",
    "    return 4*pow(x,3) + 8 * x \n",
    "\n",
    "def f5(x):\n",
    "    return math.sin(x+5) + pow((x-2),2) - 1.5 *x \n",
    "\n",
    "def df5(x):\n",
    "    return math.cos(x+5) + 4 * x -5.5 \n",
    "\n",
    "def f6(x):\n",
    "    return - math.sin(x) + 2*x\n",
    "\n",
    "def df6(x):\n",
    "    return math.cos(x) +2 \n",
    "\n",
    "def f7(x):\n",
    "    return - math.cos(x) + math.sin(x) \n",
    "\n",
    "def df7(x):\n",
    "    return math.sin(x) + math.cos(x)\n",
    "\n",
    "def f8(x):\n",
    "    return pow((x-7),3) + pow ((2*x-5),2) \n",
    "\n",
    "def df8(x):\n",
    "    return 2*pow((x-7),2) + 4*x-10"
   ]
  },
  {
   "cell_type": "code",
   "execution_count": 4,
   "metadata": {},
   "outputs": [],
   "source": [
    "def espacio(m, n, r1, r2):\n",
    "\tdat = np.zeros((m,n))\n",
    "\tfor i in range(m):\n",
    "\t\tfor j in range(n):\n",
    "\t\t\tdat[i][j] = np.random.randint(r1, r2)\n",
    "\treturn dat "
   ]
  },
  {
   "cell_type": "code",
   "execution_count": null,
   "metadata": {},
   "outputs": [],
   "source": []
  },
  {
   "cell_type": "code",
   "execution_count": 5,
   "metadata": {},
   "outputs": [],
   "source": [
    "a = 0\t#limite inferior\n",
    "b = 9\t#limite superior\n",
    "c = 3\t#numero de variables\n",
    "d = 5\t#tamaño del espacio"
   ]
  },
  {
   "cell_type": "code",
   "execution_count": 16,
   "metadata": {},
   "outputs": [
    {
     "data": {
      "text/plain": [
       "array([[8., 7., 8., 6., 2.],\n",
       "       [3., 4., 3., 7., 5.],\n",
       "       [6., 5., 5., 2., 4.]])"
      ]
     },
     "execution_count": 16,
     "metadata": {},
     "output_type": "execute_result"
    }
   ],
   "source": [
    "espacio(c,d,a,b)"
   ]
  },
  {
   "cell_type": "code",
   "execution_count": 6,
   "metadata": {},
   "outputs": [],
   "source": [
    "metodo= BCC(espacio(c,d,a,b),f1, type=\"min\")"
   ]
  },
  {
   "cell_type": "code",
   "execution_count": 7,
   "metadata": {},
   "outputs": [
    {
     "name": "stdout",
     "output_type": "stream",
     "text": [
      "[3.0, 1.0, 0.0]\n"
     ]
    }
   ],
   "source": [
    "print(metodo)"
   ]
  },
  {
   "cell_type": "code",
   "execution_count": 8,
   "metadata": {},
   "outputs": [
    {
     "data": {
      "text/plain": [
       "[0.0, 1.0, 3.0]"
      ]
     },
     "execution_count": 8,
     "metadata": {},
     "output_type": "execute_result"
    }
   ],
   "source": [
    "sorted(metodo)"
   ]
  },
  {
   "cell_type": "code",
   "execution_count": 9,
   "metadata": {},
   "outputs": [
    {
     "name": "stdout",
     "output_type": "stream",
     "text": [
      "x:  0.0\n",
      "y:  0.0\n"
     ]
    }
   ],
   "source": [
    "print(\"x: \",sorted(metodo)[0])\n",
    "print(\"y: \",f1(sorted(metodo)[0]))"
   ]
  },
  {
   "cell_type": "code",
   "execution_count": 10,
   "metadata": {},
   "outputs": [],
   "source": [
    "metodo= BCC(espacio(c,d,a,b),f2, type=\"max\")"
   ]
  },
  {
   "cell_type": "code",
   "execution_count": 11,
   "metadata": {},
   "outputs": [
    {
     "name": "stdout",
     "output_type": "stream",
     "text": [
      "[5.0, 8.0, 3.0]\n"
     ]
    }
   ],
   "source": [
    "print(metodo)"
   ]
  },
  {
   "cell_type": "code",
   "execution_count": 12,
   "metadata": {},
   "outputs": [
    {
     "data": {
      "text/plain": [
       "[8.0, 5.0, 3.0]"
      ]
     },
     "execution_count": 12,
     "metadata": {},
     "output_type": "execute_result"
    }
   ],
   "source": [
    "sorted(metodo, reverse=True)"
   ]
  },
  {
   "cell_type": "code",
   "execution_count": 13,
   "metadata": {},
   "outputs": [
    {
     "name": "stdout",
     "output_type": "stream",
     "text": [
      "x:  8.0\n",
      "y:  566.0\n"
     ]
    }
   ],
   "source": [
    "print(\"x: \",sorted(metodo, reverse=True)[0])\n",
    "print(\"y: \",f2(sorted(metodo, reverse=True)[0]))"
   ]
  },
  {
   "cell_type": "code",
   "execution_count": null,
   "metadata": {},
   "outputs": [],
   "source": []
  }
 ],
 "metadata": {
  "kernelspec": {
   "display_name": "Python 3",
   "language": "python",
   "name": "python3"
  },
  "language_info": {
   "codemirror_mode": {
    "name": "ipython",
    "version": 3
   },
   "file_extension": ".py",
   "mimetype": "text/x-python",
   "name": "python",
   "nbconvert_exporter": "python",
   "pygments_lexer": "ipython3",
   "version": "3.7.3"
  }
 },
 "nbformat": 4,
 "nbformat_minor": 2
}
