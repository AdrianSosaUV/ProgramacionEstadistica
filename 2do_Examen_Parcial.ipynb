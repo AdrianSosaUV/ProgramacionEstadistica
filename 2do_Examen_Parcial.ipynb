{
  "nbformat": 4,
  "nbformat_minor": 0,
  "metadata": {
    "colab": {
      "name": "2do_Examen_Parcial.ipynb",
      "provenance": [],
      "include_colab_link": true
    },
    "kernelspec": {
      "name": "python3",
      "display_name": "Python 3"
    }
  },
  "cells": [
    {
      "cell_type": "markdown",
      "metadata": {
        "id": "view-in-github",
        "colab_type": "text"
      },
      "source": [
        "<a href=\"https://colab.research.google.com/github/AdrianSosaUV/ProgramacionEstadistica/blob/master/2do_Examen_Parcial.ipynb\" target=\"_parent\"><img src=\"https://colab.research.google.com/assets/colab-badge.svg\" alt=\"Open In Colab\"/></a>"
      ]
    },
    {
      "cell_type": "markdown",
      "metadata": {
        "id": "Pe0NcW27gdkT",
        "colab_type": "text"
      },
      "source": [
        "# 2do Examen Parcial"
      ]
    },
    {
      "cell_type": "markdown",
      "metadata": {
        "id": "xFOwFTtpghgu",
        "colab_type": "text"
      },
      "source": [
        "### Configuración"
      ]
    },
    {
      "cell_type": "code",
      "metadata": {
        "id": "qerz2OW-LWRn",
        "colab_type": "code",
        "colab": {}
      },
      "source": [
        "import numpy as np \n",
        "import pandas as pd\n",
        "import math\n",
        "import matplotlib.pyplot as plt\n",
        "from scipy import stats \n",
        "import seaborn as sb \n",
        "sb.set_palette(\"deep\", desat=.6)\n",
        "sb.set_context(rc={\"figure.figsize\": (8, 4)})"
      ],
      "execution_count": 0,
      "outputs": []
    },
    {
      "cell_type": "code",
      "metadata": {
        "id": "2tpV3wE7hJf3",
        "colab_type": "code",
        "colab": {}
      },
      "source": [
        "# en esta celda ponga las funciones a utilizar\n",
        "\n",
        "def randnum(min, max):\n",
        "\trange = max-min\n",
        "\tchoice = np.random.uniform(0,1)\n",
        "\treturn min + range*choice\n",
        "\n",
        "def MonteCarlo(Fx, min, max, smp=5000):\n",
        "\t\"\"\"\n",
        "\tEsta función realiza el metodo montecarlo puro.\n",
        "\tArgs:\n",
        "\t- Fx  : función a evaluar\n",
        "\t- min : valor minimo\n",
        "\t- max : valor maximo\n",
        "\t- smp : numero de muestras\n",
        "\t\"\"\"\n",
        "\tsuma = 0\n",
        "\tfor i in range(smp):\n",
        "\t\tx = randnum(min, max)\n",
        "\t\tsuma += Fx(x)\n",
        "\n",
        "\testimacion = (max - min)*float(suma/smp)\n",
        "\n",
        "\t# promedio de cuadrados\n",
        "\trunning_total = 0\n",
        "\tfor i in range(smp):\n",
        "\t\tx = randnum(0, max)\n",
        "\t\trunning_total += pow(Fx(x),2)\n",
        "\tsumSqs = running_total*max / smp\n",
        "\t\n",
        "\t# cuadrado del promedio\n",
        "\trunning_total = 0\n",
        "\tfor i in range(smp):\n",
        "\t\tx = randnum(0, max)\n",
        "\t\trunning_total = Fx(x)\n",
        "\tsqs_ave = pow((max*running_total/smp),2)\n",
        "\t\n",
        "\tvarianza = sumSqs - sqs_ave\n",
        "\terror = math.sqrt(varianza/smp)\n",
        "\treturn {\"estimation\":estimacion,\"variance\":varianza,\"error\":error}\n",
        "\n",
        "def congruencia(seed, a, c, m):\n",
        "\t\"\"\"\n",
        "\tArgumentos:\n",
        "\tseed -\tsemilla, numero inicial\n",
        "\ta \t -\tmultiplicador constante\n",
        "\tc    -\tincremento\n",
        "\tm    - \tmodulo\n",
        "\n",
        "\tdevuelve:\n",
        "\taleatorio\n",
        "\t\"\"\"\n",
        "\tX0 = (a*seed+c) % m\n",
        "\treturn X0/m  \n",
        "\n",
        "def fibonachi(a=0, b=1, N=10, lim=float(\"inf\")):\n",
        "    \n",
        "    \"a-Numero inicial, b-Numero secuencial, N-Longitud de la secuencia, Lim-Limite de la secuencia\"\n",
        "\n",
        "    n = 0\n",
        "    queue = []\n",
        "    while n < N:\n",
        "        if b < lim:\n",
        "            queue.append(a)\n",
        "        else:\n",
        "            break\n",
        "        a, b = b, a + b\n",
        "        n += 1\n",
        "    return queue\n",
        "\n",
        "def cuadrado(num, iter = 20):\n",
        "\n",
        "\tmemory = []\n",
        "\ti = 0\n",
        "\twhile i < iter:\n",
        "\t\tnew = pow(num,2)\n",
        "\t\tnews = str(new)\n",
        "\t\tlongitud = len(news)\n",
        "\t\tif longitud >= 5:\n",
        "\t\t\tbound = math.floor((longitud - 4)/2)\n",
        "\t\t\tverifica = bound % 2\n",
        "\t\t\tif not(verifica == 0):\n",
        "\t\t\t\tbound += 1\n",
        "\t\t\tnews = news[bound:bound + 4]\n",
        "\t\t\tif news == \"0000\" or news == \"0\":\n",
        "\t\t\t\treturn memory[-1]\n",
        "\t\t\t\tbreak\n",
        "\t\t\tif not(news in memory):\n",
        "\t\t\t\tmemory.append(news)\n",
        "\t\t\t\tnum = int(news)\n",
        "\t\t\telse:\n",
        "\t\t\t\tbreak\n",
        "\t\telse:\n",
        "\t\t\tnum = pow(num,2)\n",
        "\t\ti += 1\n",
        "\treturn num\n",
        "\n",
        "class Distribuciones():\n",
        "\tdef Histograma(self, data, box=20):\n",
        "\t\t\"\"\"Histograma\n",
        "\t\tes una representación gráfica de una variable en forma de barras, \n",
        "\t\tdonde la superficie de cada barra es proporcional a la frecuencia \n",
        "\t\tde los valores representado\n",
        "\t\t\"\"\"\n",
        "\n",
        "\t\tcount, box, ignore = plt.hist(data, box)\n",
        "\n",
        "\tdef MProbabilidad(self, x, x1, n, n1, p, p1, str='--'):\n",
        "\t\t\"\"\"Función de Masa de Probabilidad\n",
        "\t\tAsocia a cada punto de su espacio muestral X la probabilidad \n",
        "\tde que ésta lo asuma.\n",
        "\t\t\"\"\"\n",
        "\n",
        "\t\tfmp = stats.binom.pmf(x, n, p) # Función de Masa de Probabilidad\n",
        "\t\tfmp1 = stats.binom.pmf(x1, n1, p1) # Función de Masa de Probabilidad\n",
        "\t\tplt.plot(x, fmp, str )\n",
        "\t\tplt.plot(x1, fmp1)\n",
        "\t\tplt.vlines(x, 0, fmp, colors='b', lw=5, alpha=0.5)\n",
        "\t\tplt.vlines(x1, 0, fmp1, colors='g', lw=5, alpha=0.5)\n",
        "\n",
        "\tdef DAcumulada(self, x, x1, n, p, str='--'):\n",
        "\t\t\"\"\"Función de Distribución Acumulada\n",
        "\t\t Relaciona los valores con su correspondiente percentil; \n",
        "\t\t Describe la probabilidad de que una variable aleatoria X \n",
        "\t\t sujeta a cierta ley de distribución de probabilidad se sitúe \n",
        "\t\t en la zona de valores menores o iguales a x.\n",
        "\t\t \"\"\"\n",
        "\n",
        "\t\tfda_binom = stats.binom.cdf(x, n, p)\t\t\t#Función de distribución acumulada binomial\n",
        "\t\tfda_normal = stats.norm(10, 1.2).cdf(x1)\t\t#Función de distribución acumulada normal\n",
        "\t\tplt.plot(x, fda_binom, str, label='FDA binomial')\n",
        "\t\tplt.plot(x1, fda_normal, label='FDA nomal')\n",
        "\t\tplt.legend(loc=4)\n",
        "\n",
        "\tdef DProbabilidad(self, x):\n",
        "\t\t\"\"\"Función de Densidad de Probabilidad\n",
        "\t\tDerivada de la Función de Distribución Acumulada\n",
        "\t\t\"\"\"\n",
        "\t\t\n",
        "\t\tFDP = stats.norm(10, 1.2).pdf(x)\n",
        "\t\tplt.plot(x, FDP, label='FDP normal')\n",
        "\t\t\n",
        "\tdef Poisson(self, x, fun, str='--'):\n",
        "\t\t\"\"\"Distribución de Poisson\n",
        "\t\tLa Distribución Poisson describe la probabilidad de encontrar exactamente r eventos \n",
        "\t\ten un lapso de tiempo si los acontecimientos se producen de forma independiente a \n",
        "\t\tuna velocidad constante μ.\n",
        "\t\t\"\"\"\n",
        "\n",
        "\t\tfmp = fun.pmf(x) \n",
        "\t\tplt.plot(x, fmp, str)\n",
        "\t\tplt.vlines(x, 0, fmp, colors='b', lw=5, alpha=0.5)\n",
        "\n",
        "\tdef Binomial(self, x, fun, str='--'):\n",
        "\t\t\"\"\"Distribución Binomial\n",
        "\t\tDescribe la probabilidad de exactamente 'r' éxitos en 'N' \n",
        "\t\tpruebas si la probabilidad de éxito en una sola prueba es 'p'.\n",
        "\t\t\"\"\"\n",
        "\n",
        "\t\tfmp = fun.pmf(x) \n",
        "\t\tplt.plot(x, fmp, str)\n",
        "\t\tplt.vlines(x, 0, fmp, colors='b', lw=5, alpha=0.5)\n",
        "\n",
        "\tdef Geometrica(self, x, fun, str='--'):\n",
        "\t\t\"\"\"Distribución Geometrica\n",
        "\t\tExpresa la probabilidad de tener que esperar exactamente 'r' pruebas\n",
        "\t\thasta encontrar el primer éxito si la probabilidad de éxito en una sola prueba es 'p'.\n",
        "\t\t\"\"\"\n",
        "\n",
        "\t\tfmp = fun.pmf(x) \n",
        "\t\tplt.plot(x, fmp, str)\n",
        "\t\tplt.vlines(x, 0, fmp, colors='b', lw=5, alpha=0.5)\n",
        "\n",
        "\tdef HGeometrica(self, x, fun, str='--'):\n",
        "\t\t\"\"\"Distribución Hiper Geometrica\n",
        "\t\tDescribe experimentos en donde se seleccionan los elementos al azar sin reemplazo\n",
        "\t\t(se evita seleccionar el mismo elemento más de una vez).\n",
        "\t\t\"\"\"\n",
        "\n",
        "\t\tfmp = fun.pmf(x) # Función de Masa de Probabilidad\n",
        "\t\tplt.plot(x, fmp, str)\n",
        "\t\tplt.vlines(x, 0, fmp, colors='b', lw=5, alpha=0.5)\n",
        "\n",
        "\tdef Bernoulli(self, x, fun, str='bo'):\n",
        "\t\t\"\"\"Distribución de Bernoulli\n",
        "\t\tDescribe un experimento probabilístico en donde el ensayo tiene dos posibles resultados, éxito o fracaso.\n",
        "\t\t\"\"\"\n",
        "\n",
        "\t\tfmp = fun.pmf(x) \n",
        "\t\tfig, ax = plt.subplots()\n",
        "\t\tax.plot(x, fmp, str)\n",
        "\t\tax.vlines(x, 0, fmp, colors='b', lw=5, alpha=0.5)\n",
        "\t\tax.set_yticks([0., 0.2, 0.4, 0.6])\n",
        "\n",
        "\t\n",
        "\tdef Normal(self, x, fun):\n",
        "\t\t\"\"\"distribución de Normal \n",
        "\t\ttambien llamada distribución de Gauss\n",
        "\t\t\"\"\"\n",
        "\t\t\n",
        "\t\tfp = fun.pdf(x) # Función de Probabilidad\n",
        "\t\tplt.plot(x, fp)\n",
        "\n",
        "\tdef Uniforme(self, x, fun, str='--'):\n",
        "\t\t\"\"\"Distribución Uniforme\"\"\"\n",
        "\n",
        "\t\tfp = fun.pdf(x) # Función de Probabilidad\n",
        "\t\tfig, ax = plt.subplots()\n",
        "\t\tax.plot(x, fp, str)\n",
        "\t\tax.vlines(x, 0, fp, colors='b', lw=5, alpha=0.5)\n",
        "\t\tax.set_yticks([0., 0.2, 0.4, 0.6, 0.8, 1., 1.2])\n",
        "\n",
        "\tdef LogN(self, x, fun):\n",
        "\t\t\"\"\"Distribución Log-Normal\"\"\"\n",
        "\n",
        "\t\tfp = fun.pdf(x) # Función de Probabilidad\n",
        "\t\tplt.plot(x, fp)\n",
        "\n",
        "\tdef Exponencial(self, x, fun):\n",
        "\t\t\"\"\"Funcion Exponencial\"\"\"\n",
        "\n",
        "\t\tfp = fun.pdf(x) # Función de Probabilidad\n",
        "\t\tplt.plot(x, fp)\n",
        "\n",
        "\tdef Plot(self, title, ylabel, xlabel):\n",
        "\t\t\"\"\"Función complementaria de graficación\"\"\"\n",
        "\t\tplt.ylabel(ylabel)\n",
        "\t\tplt.xlabel(xlabel)\n",
        "\t\tplt.title(title)\n",
        "\t\tplt.grid()\t\n",
        "\t\tplt.show()"
      ],
      "execution_count": 0,
      "outputs": []
    },
    {
      "cell_type": "markdown",
      "metadata": {
        "id": "Y7zaWdyJkCYC",
        "colab_type": "text"
      },
      "source": [
        "## Ejercicio 1\n",
        "\n",
        "Obtener la estimacion de las siguientes ecuaciones y mostrar el error en cada una de ellas:\n",
        "\n",
        "* x^2 + 3 * x + 2\n",
        "\n",
        "* 2 * x + 3\n",
        "\n",
        "* x^5 + 10"
      ]
    },
    {
      "cell_type": "code",
      "metadata": {
        "id": "vlGciHxAmIDn",
        "colab_type": "code",
        "colab": {}
      },
      "source": [
        "def f1(x):\n",
        "  return pow(x,2)+ (3* x +2)\n",
        "\n",
        "def f2(x):\n",
        "  return 2*x +3\n",
        "\n",
        "def f3(x):\n",
        "  return pow(x,5) + 10"
      ],
      "execution_count": 0,
      "outputs": []
    },
    {
      "cell_type": "code",
      "metadata": {
        "id": "EsYLLbkimiGF",
        "colab_type": "code",
        "colab": {
          "base_uri": "https://localhost:8080/",
          "height": 68
        },
        "outputId": "fde6dfa1-e8d9-4d0d-d1b5-1cfa16b83dfa"
      },
      "source": [
        "f01 = MonteCarlo(f1,0,5)\n",
        "f02 = MonteCarlo(f2,-5,5)\n",
        "f03 = MonteCarlo(f3,-1,1)\n",
        "\n",
        "print(\" estimación de la ecuacion1: {} error: {}\".format(f01[\"estimation\"],f01[\"error\"]))\n",
        "print(\" estimación de la ecuacion2: {} error: {}\".format(f02[\"estimation\"],f02[\"error\"]))\n",
        "print(\" estimación de la ecuacion3: {} error: {}\".format(f03[\"estimation\"],f03[\"error\"]))"
      ],
      "execution_count": 10,
      "outputs": [
        {
          "output_type": "stream",
          "text": [
            " estimación de la ecuacion1: 89.6930451717817 error: 0.6701829786583481\n",
            " estimación de la ecuacion2: 29.181468495062823 error: 0.2690212771558107\n",
            " estimación de la ecuacion3: 20.00541646625205 error: 0.1437888717926324\n"
          ],
          "name": "stdout"
        }
      ]
    },
    {
      "cell_type": "markdown",
      "metadata": {
        "id": "rpS77qaXn0Ca",
        "colab_type": "text"
      },
      "source": [
        "## ejercicio 2\n",
        "\n",
        "Genere todos los numeros aleatorios con las siguientes configuraciones por los tres metodos( cuadrados, Fibonacci y congruencia):\n",
        "\n",
        "congruencia\n",
        "\n",
        "* seed = 1968, 1993, 1600, 1005\n",
        "* c = 7, 5, 13\n",
        "* k = 18, 75, 12\n",
        "* g = 5, 7, 3\n",
        "\n",
        "fibonacci\n",
        "* a = 7, 5, 13\n",
        "* b = 18, 75, 12\n",
        "\n",
        "cuadrados\n",
        "* seed = 1968, 1993, 1600, 1005"
      ]
    },
    {
      "cell_type": "code",
      "metadata": {
        "id": "Us6Pri8HpzC5",
        "colab_type": "code",
        "colab": {
          "base_uri": "https://localhost:8080/",
          "height": 1000
        },
        "outputId": "76e25eaf-96a1-49f4-ed27-94df891e6a83"
      },
      "source": [
        "seed = [1968, 1993, 1600, 1005]\n",
        "c = [7, 5, 13]\n",
        "k = [18, 75, 12]\n",
        "g = [5, 7, 3]\n",
        "for i in seed:\n",
        "  for j in c:\n",
        "    for K in k:\n",
        "      for l in g:\n",
        "        print(congruencia(i,j,K,l))"
      ],
      "execution_count": 13,
      "outputs": [
        {
          "output_type": "stream",
          "text": [
            "0.8\n",
            "0.5714285714285714\n",
            "0.0\n",
            "0.2\n",
            "0.7142857142857143\n",
            "0.0\n",
            "0.6\n",
            "0.7142857142857143\n",
            "0.0\n",
            "0.6\n",
            "0.2857142857142857\n",
            "0.0\n",
            "0.0\n",
            "0.42857142857142855\n",
            "0.0\n",
            "0.4\n",
            "0.42857142857142855\n",
            "0.0\n",
            "0.4\n",
            "0.42857142857142855\n",
            "0.0\n",
            "0.8\n",
            "0.5714285714285714\n",
            "0.0\n",
            "0.2\n",
            "0.5714285714285714\n",
            "0.0\n",
            "0.8\n",
            "0.5714285714285714\n",
            "0.3333333333333333\n",
            "0.2\n",
            "0.7142857142857143\n",
            "0.3333333333333333\n",
            "0.6\n",
            "0.7142857142857143\n",
            "0.3333333333333333\n",
            "0.6\n",
            "0.14285714285714285\n",
            "0.6666666666666666\n",
            "0.0\n",
            "0.2857142857142857\n",
            "0.6666666666666666\n",
            "0.4\n",
            "0.2857142857142857\n",
            "0.6666666666666666\n",
            "0.4\n",
            "0.8571428571428571\n",
            "0.3333333333333333\n",
            "0.8\n",
            "0.0\n",
            "0.3333333333333333\n",
            "0.2\n",
            "0.0\n",
            "0.3333333333333333\n",
            "0.6\n",
            "0.5714285714285714\n",
            "0.3333333333333333\n",
            "0.0\n",
            "0.7142857142857143\n",
            "0.3333333333333333\n",
            "0.4\n",
            "0.7142857142857143\n",
            "0.3333333333333333\n",
            "0.6\n",
            "0.42857142857142855\n",
            "0.6666666666666666\n",
            "0.0\n",
            "0.5714285714285714\n",
            "0.6666666666666666\n",
            "0.4\n",
            "0.5714285714285714\n",
            "0.6666666666666666\n",
            "0.6\n",
            "0.0\n",
            "0.3333333333333333\n",
            "0.0\n",
            "0.14285714285714285\n",
            "0.3333333333333333\n",
            "0.4\n",
            "0.14285714285714285\n",
            "0.3333333333333333\n",
            "0.6\n",
            "0.5714285714285714\n",
            "0.0\n",
            "0.0\n",
            "0.7142857142857143\n",
            "0.0\n",
            "0.4\n",
            "0.7142857142857143\n",
            "0.0\n",
            "0.6\n",
            "0.42857142857142855\n",
            "0.0\n",
            "0.0\n",
            "0.5714285714285714\n",
            "0.0\n",
            "0.4\n",
            "0.5714285714285714\n",
            "0.0\n",
            "0.6\n",
            "0.0\n",
            "0.0\n",
            "0.0\n",
            "0.14285714285714285\n",
            "0.0\n",
            "0.4\n",
            "0.14285714285714285\n",
            "0.0\n"
          ],
          "name": "stdout"
        }
      ]
    },
    {
      "cell_type": "code",
      "metadata": {
        "id": "nhBlbGP0qYQi",
        "colab_type": "code",
        "colab": {
          "base_uri": "https://localhost:8080/",
          "height": 170
        },
        "outputId": "208c6649-24ed-435e-ec5d-cc0a8ed33d55"
      },
      "source": [
        "a = [7, 5, 13]\n",
        "b = [18, 75, 12]\n",
        "\n",
        "for i in a:\n",
        "  for j in b:\n",
        "    print(fibonachi(i,j)[-1])\n"
      ],
      "execution_count": 17,
      "outputs": [
        {
          "output_type": "stream",
          "text": [
            "759\n",
            "2697\n",
            "555\n",
            "717\n",
            "2655\n",
            "513\n",
            "885\n",
            "2823\n",
            "681\n"
          ],
          "name": "stdout"
        }
      ]
    },
    {
      "cell_type": "code",
      "metadata": {
        "id": "VGzvQ480qy9g",
        "colab_type": "code",
        "colab": {
          "base_uri": "https://localhost:8080/",
          "height": 85
        },
        "outputId": "a4bb10bb-27cd-47fd-9671-9a6d356af222"
      },
      "source": [
        "seed = [1968, 1993, 1600, 1005]\n",
        "for i in seed:\n",
        "  print(cuadrado(i))"
      ],
      "execution_count": 20,
      "outputs": [
        {
          "output_type": "stream",
          "text": [
            "5523\n",
            "1778\n",
            "6000\n",
            "0400\n"
          ],
          "name": "stdout"
        }
      ]
    },
    {
      "cell_type": "code",
      "metadata": {
        "id": "3nGa4LI6q8O2",
        "colab_type": "code",
        "colab": {}
      },
      "source": [
        ""
      ],
      "execution_count": 0,
      "outputs": []
    },
    {
      "cell_type": "markdown",
      "metadata": {
        "id": "b2A9Uo2_sNzi",
        "colab_type": "text"
      },
      "source": [
        "## Ejercicio 3\n",
        "\n"
      ]
    },
    {
      "cell_type": "markdown",
      "metadata": {
        "id": "Nn1rgm4iv_G1",
        "colab_type": "text"
      },
      "source": [
        "### de la siguiente base de datos, responda las siguientes preguntas:\n",
        "\n",
        "* ¿ cúal fue la temperatura mas baja registrada?\n",
        "* ¿ cúal fue la temperatura mas alta registrada?\n",
        "* ¿ cúal es el promedio de temperaturas por año?\n",
        "* ¿ cúal es la desviación estandar de la velocidad del viento?\n",
        "\n",
        "realice las distribuciones e histogramas correspondientes de las columnas  **temperatura, sensacion termica, humedad y velocidad del viento**."
      ]
    },
    {
      "cell_type": "code",
      "metadata": {
        "id": "BYAY7z8CuvNI",
        "colab_type": "code",
        "colab": {}
      },
      "source": [
        "data =pd.read_csv(\"https://raw.githubusercontent.com/AdrianSosaUV/ProgramacionEstadistica/master/london_merged.csv\")"
      ],
      "execution_count": 0,
      "outputs": []
    },
    {
      "cell_type": "code",
      "metadata": {
        "id": "Vih9hdyrvCfL",
        "colab_type": "code",
        "colab": {
          "base_uri": "https://localhost:8080/",
          "height": 297
        },
        "outputId": "3bb4ff00-0aca-4ce6-f90e-f9818e53effa"
      },
      "source": [
        "data.describe()"
      ],
      "execution_count": 58,
      "outputs": [
        {
          "output_type": "execute_result",
          "data": {
            "text/html": [
              "<div>\n",
              "<style scoped>\n",
              "    .dataframe tbody tr th:only-of-type {\n",
              "        vertical-align: middle;\n",
              "    }\n",
              "\n",
              "    .dataframe tbody tr th {\n",
              "        vertical-align: top;\n",
              "    }\n",
              "\n",
              "    .dataframe thead th {\n",
              "        text-align: right;\n",
              "    }\n",
              "</style>\n",
              "<table border=\"1\" class=\"dataframe\">\n",
              "  <thead>\n",
              "    <tr style=\"text-align: right;\">\n",
              "      <th></th>\n",
              "      <th>cnt</th>\n",
              "      <th>temperatura</th>\n",
              "      <th>sensacion termica</th>\n",
              "      <th>humedad</th>\n",
              "      <th>velocidad del viento</th>\n",
              "      <th>weather_code</th>\n",
              "      <th>festivo</th>\n",
              "      <th>fin de semana</th>\n",
              "      <th>season</th>\n",
              "    </tr>\n",
              "  </thead>\n",
              "  <tbody>\n",
              "    <tr>\n",
              "      <th>count</th>\n",
              "      <td>17414.000000</td>\n",
              "      <td>17414.000000</td>\n",
              "      <td>17414.000000</td>\n",
              "      <td>17414.000000</td>\n",
              "      <td>17414.000000</td>\n",
              "      <td>17414.000000</td>\n",
              "      <td>17414.000000</td>\n",
              "      <td>17414.000000</td>\n",
              "      <td>17414.000000</td>\n",
              "    </tr>\n",
              "    <tr>\n",
              "      <th>mean</th>\n",
              "      <td>1143.101642</td>\n",
              "      <td>12.468091</td>\n",
              "      <td>11.520836</td>\n",
              "      <td>72.324954</td>\n",
              "      <td>15.913063</td>\n",
              "      <td>2.722752</td>\n",
              "      <td>0.022051</td>\n",
              "      <td>0.285403</td>\n",
              "      <td>1.492075</td>\n",
              "    </tr>\n",
              "    <tr>\n",
              "      <th>std</th>\n",
              "      <td>1085.108068</td>\n",
              "      <td>5.571818</td>\n",
              "      <td>6.615145</td>\n",
              "      <td>14.313186</td>\n",
              "      <td>7.894570</td>\n",
              "      <td>2.341163</td>\n",
              "      <td>0.146854</td>\n",
              "      <td>0.451619</td>\n",
              "      <td>1.118911</td>\n",
              "    </tr>\n",
              "    <tr>\n",
              "      <th>min</th>\n",
              "      <td>0.000000</td>\n",
              "      <td>-1.500000</td>\n",
              "      <td>-6.000000</td>\n",
              "      <td>20.500000</td>\n",
              "      <td>0.000000</td>\n",
              "      <td>1.000000</td>\n",
              "      <td>0.000000</td>\n",
              "      <td>0.000000</td>\n",
              "      <td>0.000000</td>\n",
              "    </tr>\n",
              "    <tr>\n",
              "      <th>25%</th>\n",
              "      <td>257.000000</td>\n",
              "      <td>8.000000</td>\n",
              "      <td>6.000000</td>\n",
              "      <td>63.000000</td>\n",
              "      <td>10.000000</td>\n",
              "      <td>1.000000</td>\n",
              "      <td>0.000000</td>\n",
              "      <td>0.000000</td>\n",
              "      <td>0.000000</td>\n",
              "    </tr>\n",
              "    <tr>\n",
              "      <th>50%</th>\n",
              "      <td>844.000000</td>\n",
              "      <td>12.500000</td>\n",
              "      <td>12.500000</td>\n",
              "      <td>74.500000</td>\n",
              "      <td>15.000000</td>\n",
              "      <td>2.000000</td>\n",
              "      <td>0.000000</td>\n",
              "      <td>0.000000</td>\n",
              "      <td>1.000000</td>\n",
              "    </tr>\n",
              "    <tr>\n",
              "      <th>75%</th>\n",
              "      <td>1671.750000</td>\n",
              "      <td>16.000000</td>\n",
              "      <td>16.000000</td>\n",
              "      <td>83.000000</td>\n",
              "      <td>20.500000</td>\n",
              "      <td>3.000000</td>\n",
              "      <td>0.000000</td>\n",
              "      <td>1.000000</td>\n",
              "      <td>2.000000</td>\n",
              "    </tr>\n",
              "    <tr>\n",
              "      <th>max</th>\n",
              "      <td>7860.000000</td>\n",
              "      <td>34.000000</td>\n",
              "      <td>34.000000</td>\n",
              "      <td>100.000000</td>\n",
              "      <td>56.500000</td>\n",
              "      <td>26.000000</td>\n",
              "      <td>1.000000</td>\n",
              "      <td>1.000000</td>\n",
              "      <td>3.000000</td>\n",
              "    </tr>\n",
              "  </tbody>\n",
              "</table>\n",
              "</div>"
            ],
            "text/plain": [
              "                cnt   temperatura  ...  fin de semana        season\n",
              "count  17414.000000  17414.000000  ...   17414.000000  17414.000000\n",
              "mean    1143.101642     12.468091  ...       0.285403      1.492075\n",
              "std     1085.108068      5.571818  ...       0.451619      1.118911\n",
              "min        0.000000     -1.500000  ...       0.000000      0.000000\n",
              "25%      257.000000      8.000000  ...       0.000000      0.000000\n",
              "50%      844.000000     12.500000  ...       0.000000      1.000000\n",
              "75%     1671.750000     16.000000  ...       1.000000      2.000000\n",
              "max     7860.000000     34.000000  ...       1.000000      3.000000\n",
              "\n",
              "[8 rows x 9 columns]"
            ]
          },
          "metadata": {
            "tags": []
          },
          "execution_count": 58
        }
      ]
    },
    {
      "cell_type": "code",
      "metadata": {
        "id": "Fs3d-dzjvEce",
        "colab_type": "code",
        "colab": {
          "base_uri": "https://localhost:8080/",
          "height": 85
        },
        "outputId": "361d8c90-b5e8-4cb5-d8b8-dfbc157f66dc"
      },
      "source": [
        "print(\"temperatura mas baja registrada:{}\".format(data[\"temperatura\"].min()))\n",
        "print(\"temperatura mas alta registrada:{}\".format(data[\"temperatura\"].max()))\n",
        "print(\"promedio de temperaturas:{}\".format(data[\"temperatura\"].mean()))\n",
        "print(\"desviación estandar de la velocidad del viento:{}\".format(data[\"velocidad del viento\"].std()))"
      ],
      "execution_count": 62,
      "outputs": [
        {
          "output_type": "stream",
          "text": [
            "temperatura mas baja registrada:-1.5\n",
            "temperatura mas alta registrada:34.0\n",
            "promedio de temperaturas:12.468090808162016\n",
            "desviación estandar de la velocidad del viento:7.894570329361007\n"
          ],
          "name": "stdout"
        }
      ]
    },
    {
      "cell_type": "code",
      "metadata": {
        "id": "cczxrL2I1i5b",
        "colab_type": "code",
        "colab": {
          "base_uri": "https://localhost:8080/",
          "height": 1000
        },
        "outputId": "f921c89a-0daa-474e-dbef-3d122d9f91f8"
      },
      "source": [
        "lista = [\"temperatura\", \"sensacion termica \", \"humedad\",\"velocidad del viento\"]\n",
        "a = Distribuciones()\n",
        "for i in lista:\n",
        "  a.Histograma(data[i])\n",
        "  a.Plot(i,\"frecuencia\",\"valores\")"
      ],
      "execution_count": 61,
      "outputs": [
        {
          "output_type": "display_data",
          "data": {
            "image/png": "[encoded data removed]",
            "text/plain": [
              "<Figure size 432x288 with 1 Axes>"
            ]
          },
          "metadata": {
            "tags": []
          }
        },
        {
          "output_type": "display_data",
          "data": {
            "image/png": "[encoded data removed]",
            "text/plain": [
              "<Figure size 432x288 with 1 Axes>"
            ]
          },
          "metadata": {
            "tags": []
          }
        },
        {
          "output_type": "display_data",
          "data": {
            "image/png": "[encoded data removed]",
            "text/plain": [
              "<Figure size 432x288 with 1 Axes>"
            ]
          },
          "metadata": {
            "tags": []
          }
        },
        {
          "output_type": "display_data",
          "data": {
            "image/png": "[encoded data removed]",
            "text/plain": [
              "<Figure size 432x288 with 1 Axes>"
            ]
          },
          "metadata": {
            "tags": []
          }
        }
      ]
    }
  ]
}