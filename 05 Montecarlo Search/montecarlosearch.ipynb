{
 "cells": [
  {
   "cell_type": "code",
   "execution_count": 1,
   "metadata": {},
   "outputs": [],
   "source": [
    "import numpy as np \n",
    "import pandas as pd \n",
    "import math "
   ]
  },
  {
   "cell_type": "code",
   "execution_count": 15,
   "metadata": {},
   "outputs": [],
   "source": [
    "def fsearch(sol, Fx, type=\"min\"):\n",
    "\t\"\"\"Método de busqueda ciega\n",
    "\tHalla la solucion de la función Fx en el espacio de busqueda.\n",
    "\tArgumentos\n",
    "\t----------\n",
    "\tFx - Función\n",
    "\tsol - Espacio de busqueda, Matrix(MxN)\n",
    "\ttype (opcional) - Tipo de optimización\n",
    "\n",
    "\tDevuelve\n",
    "\t--------\n",
    "\tx - Solucion de la funcion Fx en el espacio de busqueda\n",
    "\t\"\"\"\n",
    "\tif (not type == \"min\" and not type == \"max\"):\n",
    "\t\traise ValueError(\"Metodo de optimización no valido\")\n",
    "\n",
    "\tx = pd.DataFrame((sol))\n",
    "\ty = x.apply(Fx,1)\n",
    "\tib = np.min(y) if type == \"min\" else np.max(y)\n",
    "\tib = int(ib)\n",
    "\treturn {\"index\":ib, \"sol\":sol[ib], \"eval\":np.min(x) if type == \"min\" else np.max(x)}"
   ]
  },
  {
   "cell_type": "code",
   "execution_count": 32,
   "metadata": {},
   "outputs": [],
   "source": [
    "def MontecarloSearch(N, lower, upper, Fx, type=\"min\"):\n",
    "\n",
    "\tif (not type == \"min\" and not type == \"max\"):\n",
    "\t\traise ValueError(\"Metodo de optimización no valido\")\n",
    "\n",
    "\tD = len(lower)\n",
    "\tS = np.zeros((N, D))\n",
    "\tfor i in range(N):\n",
    "\t\tfor j in range(D):\n",
    "\t\t\tS[i][j]= np.random.randint(lower[j], upper[j])\n",
    "\treturn fsearch(S, Fx, type)"
   ]
  },
  {
   "cell_type": "code",
   "execution_count": 33,
   "metadata": {},
   "outputs": [],
   "source": [
    "N = 1000\n",
    "D= [2,15,30] "
   ]
  },
  {
   "cell_type": "code",
   "execution_count": 34,
   "metadata": {},
   "outputs": [],
   "source": [
    "# aqui iran las ecuaciones"
   ]
  },
  {
   "cell_type": "code",
   "execution_count": 36,
   "metadata": {},
   "outputs": [
    {
     "name": "stdout",
     "output_type": "stream",
     "text": [
      "Sphere\n",
      "0.0\n",
      "121.0\n"
     ]
    }
   ],
   "source": [
    "print(\"Equación #\")\n",
    "for i in range(len(D)):\n",
    "    S = MontecarloSearch(N, [-5.20]*D[i], [5.2]*D[i], ecuacionNo)\n",
    "    print(\"D: {} S: {} f: {}\".format(D[i], S[\"sol\"][:2], S[\"eval\"][0]))"
   ]
  }
 ],
 "metadata": {
  "kernelspec": {
   "display_name": "Python 3",
   "language": "python",
   "name": "python3"
  },
  "language_info": {
   "codemirror_mode": {
    "name": "ipython",
    "version": 3
   },
   "file_extension": ".py",
   "mimetype": "text/x-python",
   "name": "python",
   "nbconvert_exporter": "python",
   "pygments_lexer": "ipython3",
   "version": "3.7.3"
  }
 },
 "nbformat": 4,
 "nbformat_minor": 2
}
