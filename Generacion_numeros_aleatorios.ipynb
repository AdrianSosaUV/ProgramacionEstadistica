{
  "nbformat": 4,
  "nbformat_minor": 0,
  "metadata": {
    "colab": {
      "name": "Gneracion_numeros_aleatorios.ipynb",
      "provenance": [],
      "include_colab_link": true
    },
    "kernelspec": {
      "name": "python3",
      "display_name": "Python 3"
    }
  },
  "cells": [
    {
      "cell_type": "markdown",
      "metadata": {
        "id": "view-in-github",
        "colab_type": "text"
      },
      "source": [
        "<a href=\"https://colab.research.google.com/github/AdrianSosaUV/ProgramacionEstadistica/blob/master/Generacion_numeros_aleatorios.ipynb\" target=\"_parent\"><img src=\"https://colab.research.google.com/assets/colab-badge.svg\" alt=\"Open In Colab\"/></a>"
      ]
    },
    {
      "cell_type": "markdown",
      "metadata": {
        "id": "nbAPZHZqepZt",
        "colab_type": "text"
      },
      "source": [
        "# Generación de números Aleatorios"
      ]
    },
    {
      "cell_type": "markdown",
      "metadata": {
        "id": "SooWEW1DexuA",
        "colab_type": "text"
      },
      "source": [
        "#### Celda de configuración"
      ]
    },
    {
      "cell_type": "markdown",
      "metadata": {
        "id": "Tb39IhsQexq2",
        "colab_type": "text"
      },
      "source": [
        ""
      ]
    },
    {
      "cell_type": "code",
      "metadata": {
        "id": "TufH17lwekbF",
        "colab_type": "code",
        "colab": {}
      },
      "source": [
        "import numpy as np \n",
        "import math "
      ],
      "execution_count": 0,
      "outputs": []
    },
    {
      "cell_type": "markdown",
      "metadata": {
        "id": "0dubIxbze30R",
        "colab_type": "text"
      },
      "source": [
        "### Definición de funciones\n"
      ]
    },
    {
      "cell_type": "code",
      "metadata": {
        "id": "m9E1MlG6e2R3",
        "colab_type": "code",
        "colab": {}
      },
      "source": [
        "def congruencia(seed, a, c, m):\n",
        "\t\"\"\"\n",
        "\tArgumentos:\n",
        "\tseed -\tsemilla, numero inicial\n",
        "\ta \t -\tmultiplicador constante\n",
        "\tc    -\tincremento\n",
        "\tm    - \tmodulo\n",
        "\n",
        "\tdevuelve:\n",
        "\taleatorio\n",
        "\t\"\"\"\n",
        "\tX0 = (a*seed+c) % m\n",
        "\treturn X0/m  "
      ],
      "execution_count": 0,
      "outputs": []
    },
    {
      "cell_type": "code",
      "metadata": {
        "id": "P7kQeX8SfFUv",
        "colab_type": "code",
        "colab": {}
      },
      "source": [
        "def cuadrado(num, iter = 20):\n",
        "\n",
        "\tmemory = []\n",
        "\ti = 0\n",
        "\twhile i < iter:\n",
        "\t\tnew = pow(num,2)\n",
        "\t\tnews = str(new)\n",
        "\t\tlongitud = len(news)\n",
        "\t\tif longitud >= 5:\n",
        "\t\t\tbound = math.floor((longitud - 4)/2)\n",
        "\t\t\tverifica = bound % 2\n",
        "\t\t\tif not(verifica == 0):\n",
        "\t\t\t\tbound += 1\n",
        "\t\t\tnews = news[bound:bound + 4]\n",
        "\t\t\tif news == \"0000\" or news == \"0\":\n",
        "\t\t\t\treturn memory[-1]\n",
        "\t\t\t\tbreak\n",
        "\t\t\tif not(news in memory):\n",
        "\t\t\t\tmemory.append(news)\n",
        "\t\t\t\tnum = int(news)\n",
        "\t\t\telse:\n",
        "\t\t\t\tbreak\n",
        "\t\telse:\n",
        "\t\t\tnum = pow(num,2)\n",
        "\t\ti += 1\n",
        "\treturn num"
      ],
      "execution_count": 0,
      "outputs": []
    },
    {
      "cell_type": "code",
      "metadata": {
        "id": "8_JAvjtafIMv",
        "colab_type": "code",
        "colab": {}
      },
      "source": [
        "def fibonacci(a=0, b=1, N=10, lim=float(\"inf\")):\n",
        "  \"\"\"Generador de números de fibonacci\n",
        "  Argumentos\n",
        "  ----------\n",
        "  a - Numero inicial\n",
        "  b - Numero secuencial\n",
        "  N - longitud de la secuencia\n",
        "  lim - limite de la secuencia\n",
        "  \"\"\"\n",
        "  n=0\n",
        "  queue = []\n",
        "  while n < N:\n",
        "    if b < lim:\n",
        "      queue.append(a)\n",
        "    else:\n",
        "      break\n",
        "    a, b = b, a + b\n",
        "    n += 1\n",
        "  return queue"
      ],
      "execution_count": 0,
      "outputs": []
    },
    {
      "cell_type": "markdown",
      "metadata": {
        "id": "y4keUHVfnLbm",
        "colab_type": "text"
      },
      "source": [
        "## Ejercicios"
      ]
    },
    {
      "cell_type": "markdown",
      "metadata": {
        "id": "0SpAX_IinV3U",
        "colab_type": "text"
      },
      "source": [
        "### Genere todos los números de congruencia posibles con las siguientes configuraciónes: \n",
        "\n",
        "* seed = 5, 9, 16, 87, 63\n",
        "* a = 6, 15, 23, 7\n",
        "* c = 3,5,7,9\n",
        "* m = 3,1,9"
      ]
    },
    {
      "cell_type": "code",
      "metadata": {
        "id": "6LGBi42Xh9SO",
        "colab_type": "code",
        "colab": {
          "base_uri": "https://localhost:8080/",
          "height": 1000
        },
        "outputId": "1f13e1b2-90c8-4b96-ff94-a72ed18022a1"
      },
      "source": [
        "## inserte codigo aqui\n",
        "\n",
        "seed = [5, 9, 16, 87, 63]\n",
        "a = [6, 15, 23, 7]\n",
        "c = [3,5,7,9]\n",
        "m = [3,1,9]\n",
        "numeros=[]\n",
        "for i in seed :\n",
        "  for j in a:\n",
        "    for k in c:\n",
        "      for l in m:\n",
        "        numeros.append(congruencia(i,j,k,l))\n",
        "for i in numeros:\n",
        "  print(i)\n"
      ],
      "execution_count": 54,
      "outputs": [
        {
          "output_type": "stream",
          "text": [
            "0.0\n",
            "0.0\n",
            "0.6666666666666666\n",
            "0.6666666666666666\n",
            "0.0\n",
            "0.8888888888888888\n",
            "0.3333333333333333\n",
            "0.0\n",
            "0.1111111111111111\n",
            "0.0\n",
            "0.0\n",
            "0.3333333333333333\n",
            "0.0\n",
            "0.0\n",
            "0.6666666666666666\n",
            "0.6666666666666666\n",
            "0.0\n",
            "0.8888888888888888\n",
            "0.3333333333333333\n",
            "0.0\n",
            "0.1111111111111111\n",
            "0.0\n",
            "0.0\n",
            "0.3333333333333333\n",
            "0.3333333333333333\n",
            "0.0\n",
            "0.1111111111111111\n",
            "0.0\n",
            "0.0\n",
            "0.3333333333333333\n",
            "0.6666666666666666\n",
            "0.0\n",
            "0.5555555555555556\n",
            "0.3333333333333333\n",
            "0.0\n",
            "0.7777777777777778\n",
            "0.6666666666666666\n",
            "0.0\n",
            "0.2222222222222222\n",
            "0.3333333333333333\n",
            "0.0\n",
            "0.4444444444444444\n",
            "0.0\n",
            "0.0\n",
            "0.6666666666666666\n",
            "0.6666666666666666\n",
            "0.0\n",
            "0.8888888888888888\n",
            "0.0\n",
            "0.0\n",
            "0.3333333333333333\n",
            "0.6666666666666666\n",
            "0.0\n",
            "0.5555555555555556\n",
            "0.3333333333333333\n",
            "0.0\n",
            "0.7777777777777778\n",
            "0.0\n",
            "0.0\n",
            "0.0\n",
            "0.0\n",
            "0.0\n",
            "0.3333333333333333\n",
            "0.6666666666666666\n",
            "0.0\n",
            "0.5555555555555556\n",
            "0.3333333333333333\n",
            "0.0\n",
            "0.7777777777777778\n",
            "0.0\n",
            "0.0\n",
            "0.0\n",
            "0.0\n",
            "0.0\n",
            "0.3333333333333333\n",
            "0.6666666666666666\n",
            "0.0\n",
            "0.5555555555555556\n",
            "0.3333333333333333\n",
            "0.0\n",
            "0.7777777777777778\n",
            "0.0\n",
            "0.0\n",
            "0.0\n",
            "0.0\n",
            "0.0\n",
            "0.3333333333333333\n",
            "0.6666666666666666\n",
            "0.0\n",
            "0.5555555555555556\n",
            "0.3333333333333333\n",
            "0.0\n",
            "0.7777777777777778\n",
            "0.0\n",
            "0.0\n",
            "0.0\n",
            "0.0\n",
            "0.0\n",
            "0.0\n",
            "0.6666666666666666\n",
            "0.0\n",
            "0.2222222222222222\n",
            "0.3333333333333333\n",
            "0.0\n",
            "0.4444444444444444\n",
            "0.0\n",
            "0.0\n",
            "0.6666666666666666\n",
            "0.0\n",
            "0.0\n",
            "0.0\n",
            "0.6666666666666666\n",
            "0.0\n",
            "0.2222222222222222\n",
            "0.3333333333333333\n",
            "0.0\n",
            "0.4444444444444444\n",
            "0.0\n",
            "0.0\n",
            "0.6666666666666666\n",
            "0.6666666666666666\n",
            "0.0\n",
            "0.2222222222222222\n",
            "0.3333333333333333\n",
            "0.0\n",
            "0.4444444444444444\n",
            "0.0\n",
            "0.0\n",
            "0.6666666666666666\n",
            "0.6666666666666666\n",
            "0.0\n",
            "0.8888888888888888\n",
            "0.3333333333333333\n",
            "0.0\n",
            "0.7777777777777778\n",
            "0.0\n",
            "0.0\n",
            "0.0\n",
            "0.6666666666666666\n",
            "0.0\n",
            "0.2222222222222222\n",
            "0.3333333333333333\n",
            "0.0\n",
            "0.4444444444444444\n",
            "0.0\n",
            "0.0\n",
            "0.3333333333333333\n",
            "0.6666666666666666\n",
            "0.0\n",
            "0.5555555555555556\n",
            "0.3333333333333333\n",
            "0.0\n",
            "0.7777777777777778\n",
            "0.0\n",
            "0.0\n",
            "0.0\n",
            "0.0\n",
            "0.0\n",
            "0.3333333333333333\n",
            "0.6666666666666666\n",
            "0.0\n",
            "0.5555555555555556\n",
            "0.3333333333333333\n",
            "0.0\n",
            "0.7777777777777778\n",
            "0.0\n",
            "0.0\n",
            "0.0\n",
            "0.0\n",
            "0.0\n",
            "0.6666666666666666\n",
            "0.6666666666666666\n",
            "0.0\n",
            "0.8888888888888888\n",
            "0.3333333333333333\n",
            "0.0\n",
            "0.1111111111111111\n",
            "0.0\n",
            "0.0\n",
            "0.3333333333333333\n",
            "0.0\n",
            "0.0\n",
            "0.0\n",
            "0.6666666666666666\n",
            "0.0\n",
            "0.2222222222222222\n",
            "0.3333333333333333\n",
            "0.0\n",
            "0.4444444444444444\n",
            "0.0\n",
            "0.0\n",
            "0.6666666666666666\n",
            "0.0\n",
            "0.0\n",
            "0.3333333333333333\n",
            "0.6666666666666666\n",
            "0.0\n",
            "0.5555555555555556\n",
            "0.3333333333333333\n",
            "0.0\n",
            "0.7777777777777778\n",
            "0.0\n",
            "0.0\n",
            "0.0\n",
            "0.0\n",
            "0.0\n",
            "0.3333333333333333\n",
            "0.6666666666666666\n",
            "0.0\n",
            "0.5555555555555556\n",
            "0.3333333333333333\n",
            "0.0\n",
            "0.7777777777777778\n",
            "0.0\n",
            "0.0\n",
            "0.0\n",
            "0.0\n",
            "0.0\n",
            "0.3333333333333333\n",
            "0.6666666666666666\n",
            "0.0\n",
            "0.5555555555555556\n",
            "0.3333333333333333\n",
            "0.0\n",
            "0.7777777777777778\n",
            "0.0\n",
            "0.0\n",
            "0.0\n",
            "0.0\n",
            "0.0\n",
            "0.3333333333333333\n",
            "0.6666666666666666\n",
            "0.0\n",
            "0.5555555555555556\n",
            "0.3333333333333333\n",
            "0.0\n",
            "0.7777777777777778\n",
            "0.0\n",
            "0.0\n",
            "0.0\n"
          ],
          "name": "stdout"
        }
      ]
    },
    {
      "cell_type": "markdown",
      "metadata": {
        "id": "uuLAQKBIp-F3",
        "colab_type": "text"
      },
      "source": [
        "### Genere todos los números aleatorios posibles con el método de cuadrado: \n",
        "\n",
        "* numero = 5, 9, 16, 87, 63\n"
      ]
    },
    {
      "cell_type": "code",
      "metadata": {
        "id": "_nCprN_NiCZW",
        "colab_type": "code",
        "colab": {
          "base_uri": "https://localhost:8080/",
          "height": 34
        },
        "outputId": "cf8c269e-4421-4f62-d9af-c214ff53cee2"
      },
      "source": [
        "numero = [5, 9, 16, 87, 63]\n",
        "num = [cuadrado(i) for i in numero]\n",
        "print(num)"
      ],
      "execution_count": 55,
      "outputs": [
        {
          "output_type": "stream",
          "text": [
            "[625, '1000', 1608, 4363, 2822]\n"
          ],
          "name": "stdout"
        }
      ]
    },
    {
      "cell_type": "markdown",
      "metadata": {
        "id": "TipdkfzDqkfk",
        "colab_type": "text"
      },
      "source": [
        "### Genere todos los números aleatorios posibles con el método de Fibonacci: \n",
        "\n",
        "* a = 1,2,3,4,5,6\n",
        "* b = 2,3,5,7,8,11\n",
        "* n = 50\n",
        "* lim = 300"
      ]
    },
    {
      "cell_type": "code",
      "metadata": {
        "id": "jEa8ghgBjtGQ",
        "colab_type": "code",
        "colab": {
          "base_uri": "https://localhost:8080/",
          "height": 629
        },
        "outputId": "6f5ed75d-b2e2-42db-cc16-154270801a68"
      },
      "source": [
        "a = [1,2,3,4,5,6]\n",
        "b = [2,3,5,7,8,11]\n",
        "n = 50\n",
        "lim = 300\n",
        "\n",
        "for i in a:\n",
        "  for j in b:\n",
        "    print(fibonacci(i,j,n,lim))"
      ],
      "execution_count": 59,
      "outputs": [
        {
          "output_type": "stream",
          "text": [
            "[1, 2, 3, 5, 8, 13, 21, 34, 55, 89, 144]\n",
            "[1, 3, 4, 7, 11, 18, 29, 47, 76, 123]\n",
            "[1, 5, 6, 11, 17, 28, 45, 73, 118]\n",
            "[1, 7, 8, 15, 23, 38, 61, 99, 160]\n",
            "[1, 8, 9, 17, 26, 43, 69, 112, 181]\n",
            "[1, 11, 12, 23, 35, 58, 93, 151]\n",
            "[2, 2, 4, 6, 10, 16, 26, 42, 68, 110, 178]\n",
            "[2, 3, 5, 8, 13, 21, 34, 55, 89, 144]\n",
            "[2, 5, 7, 12, 19, 31, 50, 81, 131]\n",
            "[2, 7, 9, 16, 25, 41, 66, 107, 173]\n",
            "[2, 8, 10, 18, 28, 46, 74, 120]\n",
            "[2, 11, 13, 24, 37, 61, 98, 159]\n",
            "[3, 2, 5, 7, 12, 19, 31, 50, 81, 131]\n",
            "[3, 3, 6, 9, 15, 24, 39, 63, 102, 165]\n",
            "[3, 5, 8, 13, 21, 34, 55, 89, 144]\n",
            "[3, 7, 10, 17, 27, 44, 71, 115]\n",
            "[3, 8, 11, 19, 30, 49, 79, 128]\n",
            "[3, 11, 14, 25, 39, 64, 103, 167]\n",
            "[4, 2, 6, 8, 14, 22, 36, 58, 94, 152]\n",
            "[4, 3, 7, 10, 17, 27, 44, 71, 115]\n",
            "[4, 5, 9, 14, 23, 37, 60, 97, 157]\n",
            "[4, 7, 11, 18, 29, 47, 76, 123]\n",
            "[4, 8, 12, 20, 32, 52, 84, 136]\n",
            "[4, 11, 15, 26, 41, 67, 108, 175]\n",
            "[5, 2, 7, 9, 16, 25, 41, 66, 107, 173]\n",
            "[5, 3, 8, 11, 19, 30, 49, 79, 128]\n",
            "[5, 5, 10, 15, 25, 40, 65, 105, 170]\n",
            "[5, 7, 12, 19, 31, 50, 81, 131]\n",
            "[5, 8, 13, 21, 34, 55, 89, 144]\n",
            "[5, 11, 16, 27, 43, 70, 113, 183]\n",
            "[6, 2, 8, 10, 18, 28, 46, 74, 120]\n",
            "[6, 3, 9, 12, 21, 33, 54, 87, 141]\n",
            "[6, 5, 11, 16, 27, 43, 70, 113, 183]\n",
            "[6, 7, 13, 20, 33, 53, 86, 139]\n",
            "[6, 8, 14, 22, 36, 58, 94, 152]\n",
            "[6, 11, 17, 28, 45, 73, 118]\n"
          ],
          "name": "stdout"
        }
      ]
    },
    {
      "cell_type": "code",
      "metadata": {
        "id": "Ih0-vTHRrdIK",
        "colab_type": "code",
        "colab": {}
      },
      "source": [
        ""
      ],
      "execution_count": 0,
      "outputs": []
    }
  ]
}