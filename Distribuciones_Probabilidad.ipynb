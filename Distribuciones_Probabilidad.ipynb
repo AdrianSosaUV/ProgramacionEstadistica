{
  "nbformat": 4,
  "nbformat_minor": 0,
  "metadata": {
    "colab": {
      "name": "Distribuciones_Probabilidad.ipynb",
      "provenance": [],
      "include_colab_link": true
    },
    "kernelspec": {
      "name": "python3",
      "display_name": "Python 3"
    }
  },
  "cells": [
    {
      "cell_type": "markdown",
      "metadata": {
        "id": "view-in-github",
        "colab_type": "text"
      },
      "source": [
        "<a href=\"https://colab.research.google.com/github/AdrianSosaUV/ProgramacionEstadistica/blob/master/Distribuciones_Probabilidad.ipynb\" target=\"_parent\"><img src=\"https://colab.research.google.com/assets/colab-badge.svg\" alt=\"Open In Colab\"/></a>"
      ]
    },
    {
      "cell_type": "markdown",
      "metadata": {
        "id": "QY7M0NPMbIL7",
        "colab_type": "text"
      },
      "source": [
        "# Ejercicios de Distribución de probabilidad"
      ]
    },
    {
      "cell_type": "markdown",
      "metadata": {
        "id": "m_ZZ-UDVlgIa",
        "colab_type": "text"
      },
      "source": [
        "![Tipos de distribución](https://relopezbriega.github.io/images/distributions_choice.png)\n",
        "\n"
      ]
    },
    {
      "cell_type": "markdown",
      "metadata": {
        "id": "YnHGe6mebOit",
        "colab_type": "text"
      },
      "source": [
        "#### Configuración\n",
        "\n",
        "En estas celdas se cargaran las librerías a utilizar así como sus configuraciones "
      ]
    },
    {
      "cell_type": "code",
      "metadata": {
        "id": "9NMd8RPkRSL4",
        "colab_type": "code",
        "colab": {}
      },
      "source": [
        "import matplotlib.pyplot as plt\n",
        "import numpy as np \n",
        "from scipy import stats \n",
        "import seaborn as sb \n",
        "import pandas as pd "
      ],
      "execution_count": 0,
      "outputs": []
    },
    {
      "cell_type": "code",
      "metadata": {
        "id": "nmZneWa0RhYp",
        "colab_type": "code",
        "colab": {}
      },
      "source": [
        "sb.set_palette(\"deep\", desat=.6)\n",
        "sb.set_context(rc={\"figure.figsize\": (8, 4)})\n"
      ],
      "execution_count": 0,
      "outputs": []
    },
    {
      "cell_type": "markdown",
      "metadata": {
        "id": "H-nz9PNcbbXw",
        "colab_type": "text"
      },
      "source": [
        "#### En esta celda se cargara la clase \"Distribuciones\""
      ]
    },
    {
      "cell_type": "code",
      "metadata": {
        "id": "wWav82YuRn45",
        "colab_type": "code",
        "colab": {}
      },
      "source": [
        "class Distribuciones():\n",
        "\n",
        "\n",
        "\tdef Histograma(self, data, box=20):\n",
        "\t\t\"\"\"Histograma\n",
        "\t\tes una representación gráfica de una variable en forma de barras, \n",
        "\t\tdonde la superficie de cada barra es proporcional a la frecuencia \n",
        "\t\tde los valores representado\n",
        "\t\t\"\"\"\n",
        "\n",
        "\t\tcount, box, ignore = plt.hist(data, box)\n",
        "\n",
        "\tdef MProbabilidad(self, x, x1, n, n1, p, p1, str='--'):\n",
        "\t\t\"\"\"Función de Masa de Probabilidad\n",
        "\t\tAsocia a cada punto de su espacio muestral X la probabilidad \n",
        "\tde que ésta lo asuma.\n",
        "\t\t\"\"\"\n",
        "\n",
        "\t\tfmp = stats.binom.pmf(x, n, p) # Función de Masa de Probabilidad\n",
        "\t\tfmp1 = stats.binom.pmf(x1, n1, p1) # Función de Masa de Probabilidad\n",
        "\t\tplt.plot(x, fmp, str )\n",
        "\t\tplt.plot(x1, fmp1)\n",
        "\t\tplt.vlines(x, 0, fmp, colors='b', lw=5, alpha=0.5)\n",
        "\t\tplt.vlines(x1, 0, fmp1, colors='g', lw=5, alpha=0.5)\n",
        "\n",
        "\tdef DAcumulada(self, x, x1, n, p, str='--'):\n",
        "\t\t\"\"\"Función de Distribución Acumulada\n",
        "\t\t Relaciona los valores con su correspondiente percentil; \n",
        "\t\t Describe la probabilidad de que una variable aleatoria X \n",
        "\t\t sujeta a cierta ley de distribución de probabilidad se sitúe \n",
        "\t\t en la zona de valores menores o iguales a x.\n",
        "\t\t \"\"\"\n",
        "\n",
        "\t\tfda_binom = stats.binom.cdf(x, n, p)\t\t\t#Función de distribución acumulada binomial\n",
        "\t\tfda_normal = stats.norm(10, 1.2).cdf(x1)\t\t#Función de distribución acumulada normal\n",
        "\t\tplt.plot(x, fda_binom, str, label='FDA binomial')\n",
        "\t\tplt.plot(x1, fda_normal, label='FDA nomal')\n",
        "\t\tplt.legend(loc=4)\n",
        "\n",
        "\tdef DProbabilidad(self, x):\n",
        "\t\t\"\"\"Función de Densidad de Probabilidad\n",
        "\t\tDerivada de la Función de Distribución Acumulada\n",
        "\t\t\"\"\"\n",
        "\t\t\n",
        "\t\tFDP = stats.norm(10, 1.2).pdf(x)\n",
        "\t\tplt.plot(x, FDP, label='FDP normal')\n",
        "\t\t\n",
        "\tdef Poisson(self, x, fun, str='--'):\n",
        "\t\t\"\"\"Distribución de Poisson\n",
        "\t\tLa Distribución Poisson describe la probabilidad de encontrar exactamente r eventos \n",
        "\t\ten un lapso de tiempo si los acontecimientos se producen de forma independiente a \n",
        "\t\tuna velocidad constante μ.\n",
        "\t\t\"\"\"\n",
        "\n",
        "\t\tfmp = fun.pmf(x) \n",
        "\t\tplt.plot(x, fmp, str)\n",
        "\t\tplt.vlines(x, 0, fmp, colors='b', lw=5, alpha=0.5)\n",
        "\n",
        "\tdef Binomial(self, x, fun, str='--'):\n",
        "\t\t\"\"\"Distribución Binomial\n",
        "\t\tDescribe la probabilidad de exactamente 'r' éxitos en 'N' \n",
        "\t\tpruebas si la probabilidad de éxito en una sola prueba es 'p'.\n",
        "\t\t\"\"\"\n",
        "\n",
        "\t\tfmp = fun.pmf(x) \n",
        "\t\tplt.plot(x, fmp, str)\n",
        "\t\tplt.vlines(x, 0, fmp, colors='b', lw=5, alpha=0.5)\n",
        "\n",
        "\tdef Geometrica(self, x, fun, str='--'):\n",
        "\t\t\"\"\"Distribución Geometrica\n",
        "\t\tExpresa la probabilidad de tener que esperar exactamente 'r' pruebas\n",
        "\t\thasta encontrar el primer éxito si la probabilidad de éxito en una sola prueba es 'p'.\n",
        "\t\t\"\"\"\n",
        "\n",
        "\t\tfmp = fun.pmf(x) \n",
        "\t\tplt.plot(x, fmp, str)\n",
        "\t\tplt.vlines(x, 0, fmp, colors='b', lw=5, alpha=0.5)\n",
        "\n",
        "\tdef HGeometrica(self, x, fun, str='--'):\n",
        "\t\t\"\"\"Distribución Hiper Geometrica\n",
        "\t\tDescribe experimentos en donde se seleccionan los elementos al azar sin reemplazo\n",
        "\t\t(se evita seleccionar el mismo elemento más de una vez).\n",
        "\t\t\"\"\"\n",
        "\n",
        "\t\tfmp = fun.pmf(x) # Función de Masa de Probabilidad\n",
        "\t\tplt.plot(x, fmp, str)\n",
        "\t\tplt.vlines(x, 0, fmp, colors='b', lw=5, alpha=0.5)\n",
        "\n",
        "\tdef Bernoulli(self, x, fun, str='bo'):\n",
        "\t\t\"\"\"Distribución de Bernoulli\n",
        "\t\tDescribe un experimento probabilístico en donde el ensayo tiene dos posibles resultados, éxito o fracaso.\n",
        "\t\t\"\"\"\n",
        "\n",
        "\t\tfmp = fun.pmf(x) \n",
        "\t\tfig, ax = plt.subplots()\n",
        "\t\tax.plot(x, fmp, str)\n",
        "\t\tax.vlines(x, 0, fmp, colors='b', lw=5, alpha=0.5)\n",
        "\t\tax.set_yticks([0., 0.2, 0.4, 0.6])\n",
        "\n",
        "\t\n",
        "\tdef Normal(self, x, fun,str='--'):\n",
        "\t\t\"\"\"distribución de Normal \n",
        "\t\ttambien llamada distribución de Gauss\n",
        "\t\t\"\"\"\n",
        "\t\t\n",
        "\t\tfp = fun.pdf(x) # Función de Probabilidad\n",
        "\t\tplt.plot(x, fp, str)\n",
        "\n",
        "\tdef Uniforme(self, x, fun, str='--'):\n",
        "\t\t\"\"\"Distribución Uniforme\"\"\"\n",
        "\n",
        "\t\tfp = fun.pdf(x) # Función de Probabilidad\n",
        "\t\tfig, ax = plt.subplots()\n",
        "\t\tax.plot(x, fp, str)\n",
        "\t\tax.vlines(x, 0, fp, colors='b', lw=5, alpha=0.5)\n",
        "\t\tax.set_yticks([0., 0.2, 0.4, 0.6, 0.8, 1., 1.2])\n",
        "\n",
        "\tdef LogN(self, x, fun):\n",
        "\t\t\"\"\"Distribución Log-Normal\"\"\"\n",
        "\n",
        "\t\tfp = fun.pdf(x) # Función de Probabilidad\n",
        "\t\tplt.plot(x, fp)\n",
        "\n",
        "\tdef Exponencial(self, x, fun):\n",
        "\t\t\"\"\"Funcion Exponencial\"\"\"\n",
        "\n",
        "\t\tfp = fun.pdf(x) # Función de Probabilidad\n",
        "\t\tplt.plot(x, fp)\n",
        "\n",
        "\tdef Plot(self, title, ylabel, xlabel):\n",
        "\t\t\"\"\"Función complementaria de graficación\"\"\"\n",
        "\t\tplt.ylabel(ylabel)\n",
        "\t\tplt.xlabel(xlabel)\n",
        "\t\tplt.title(title)\n",
        "\t\tplt.grid()\t\n",
        "\t\tplt.show()"
      ],
      "execution_count": 0,
      "outputs": []
    },
    {
      "cell_type": "markdown",
      "metadata": {
        "id": "CCEHeTSPngO1",
        "colab_type": "text"
      },
      "source": [
        "## Ejercicio 1"
      ]
    },
    {
      "cell_type": "markdown",
      "metadata": {
        "id": "t-mZWl_3niBF",
        "colab_type": "text"
      },
      "source": [
        "### A partir del siguiente conjunto de datos, obtener lo siguiente:\n",
        "\n",
        "* rango de fechas ( más antiguo y más reciente)\n",
        "* media, mediana y moda del precio del petroleo\n",
        "* histograma"
      ]
    },
    {
      "cell_type": "code",
      "metadata": {
        "id": "XGieWCA4RrIO",
        "colab_type": "code",
        "colab": {}
      },
      "source": [
        "data = pd.read_csv(\"https://raw.githubusercontent.com/AdrianSosaUV/ProgramacionEstadistica/master/BrentOilPrices.csv\")"
      ],
      "execution_count": 0,
      "outputs": []
    },
    {
      "cell_type": "code",
      "metadata": {
        "id": "UfmfxTonSR6i",
        "colab_type": "code",
        "outputId": "2bcee8a4-7c01-4a89-c9c0-056f0e609be6",
        "colab": {
          "base_uri": "https://localhost:8080/",
          "height": 204
        }
      },
      "source": [
        "data.head()"
      ],
      "execution_count": 43,
      "outputs": [
        {
          "output_type": "execute_result",
          "data": {
            "text/html": [
              "<div>\n",
              "<style scoped>\n",
              "    .dataframe tbody tr th:only-of-type {\n",
              "        vertical-align: middle;\n",
              "    }\n",
              "\n",
              "    .dataframe tbody tr th {\n",
              "        vertical-align: top;\n",
              "    }\n",
              "\n",
              "    .dataframe thead th {\n",
              "        text-align: right;\n",
              "    }\n",
              "</style>\n",
              "<table border=\"1\" class=\"dataframe\">\n",
              "  <thead>\n",
              "    <tr style=\"text-align: right;\">\n",
              "      <th></th>\n",
              "      <th>Date</th>\n",
              "      <th>Price</th>\n",
              "    </tr>\n",
              "  </thead>\n",
              "  <tbody>\n",
              "    <tr>\n",
              "      <th>0</th>\n",
              "      <td>May 20, 1987</td>\n",
              "      <td>18.63</td>\n",
              "    </tr>\n",
              "    <tr>\n",
              "      <th>1</th>\n",
              "      <td>May 21, 1987</td>\n",
              "      <td>18.45</td>\n",
              "    </tr>\n",
              "    <tr>\n",
              "      <th>2</th>\n",
              "      <td>May 22, 1987</td>\n",
              "      <td>18.55</td>\n",
              "    </tr>\n",
              "    <tr>\n",
              "      <th>3</th>\n",
              "      <td>May 25, 1987</td>\n",
              "      <td>18.60</td>\n",
              "    </tr>\n",
              "    <tr>\n",
              "      <th>4</th>\n",
              "      <td>May 26, 1987</td>\n",
              "      <td>18.63</td>\n",
              "    </tr>\n",
              "  </tbody>\n",
              "</table>\n",
              "</div>"
            ],
            "text/plain": [
              "           Date  Price\n",
              "0  May 20, 1987  18.63\n",
              "1  May 21, 1987  18.45\n",
              "2  May 22, 1987  18.55\n",
              "3  May 25, 1987  18.60\n",
              "4  May 26, 1987  18.63"
            ]
          },
          "metadata": {
            "tags": []
          },
          "execution_count": 43
        }
      ]
    },
    {
      "cell_type": "code",
      "metadata": {
        "id": "0k1vxvK3U_vV",
        "colab_type": "code",
        "colab": {}
      },
      "source": [
        "data[\"Date\"] = pd.to_datetime(data[\"Date\"])"
      ],
      "execution_count": 0,
      "outputs": []
    },
    {
      "cell_type": "code",
      "metadata": {
        "id": "l3PUSTBRVKuk",
        "colab_type": "code",
        "outputId": "6b65cf7b-baef-4d62-e831-2575a9d240b0",
        "colab": {
          "base_uri": "https://localhost:8080/",
          "height": 51
        }
      },
      "source": [
        "# fechas\n",
        "print(\"fecha mas antigua: {}\".format(data[\"Date\"].min()))\n",
        "print(\"fecha mas reciente: {}\".format(data[\"Date\"].max()))"
      ],
      "execution_count": 45,
      "outputs": [
        {
          "output_type": "stream",
          "text": [
            "fecha mas antigua: 1987-05-20 00:00:00\n",
            "fecha mas reciente: 2019-09-30 00:00:00\n"
          ],
          "name": "stdout"
        }
      ]
    },
    {
      "cell_type": "code",
      "metadata": {
        "id": "B6ARUT7LVYki",
        "colab_type": "code",
        "outputId": "86b349e3-03cc-4139-d49d-0217748a910d",
        "colab": {
          "base_uri": "https://localhost:8080/",
          "height": 85
        }
      },
      "source": [
        "#precios\n",
        "print(\"media del precio del petroleo: {}\".format(data[\"Price\"].mean()))\n",
        "print(\"mediana del precio del petroleo: {}\".format(data[\"Price\"].median()))\n",
        "print(\"moda del precio del petroleo: {}\".format(data[\"Price\"].mode()))"
      ],
      "execution_count": 46,
      "outputs": [
        {
          "output_type": "stream",
          "text": [
            "media del precio del petroleo: 46.33260467380719\n",
            "mediana del precio del petroleo: 31.26\n",
            "moda del precio del petroleo: 0    18.48\n",
            "dtype: float64\n"
          ],
          "name": "stdout"
        }
      ]
    },
    {
      "cell_type": "code",
      "metadata": {
        "id": "pxxucaXWVbWV",
        "colab_type": "code",
        "outputId": "088bf287-9716-4947-adcb-254e45edb3ad",
        "colab": {
          "base_uri": "https://localhost:8080/",
          "height": 295
        }
      },
      "source": [
        "a = Distribuciones()\n",
        "a.Histograma(data[\"Price\"])\n",
        "a.Plot(\"Precio\",\"Frecuencia\",\"valores\")"
      ],
      "execution_count": 47,
      "outputs": [
        {
          "output_type": "display_data",
          "data": {
            "image/png": "[encoded data removed]",
            "text/plain": [
              "<Figure size 432x288 with 1 Axes>"
            ]
          },
          "metadata": {
            "tags": []
          }
        }
      ]
    },
    {
      "cell_type": "code",
      "metadata": {
        "id": "mMVbmeuSX3or",
        "colab_type": "code",
        "colab": {
          "base_uri": "https://localhost:8080/",
          "height": 295
        },
        "outputId": "4ed15ae6-d7f8-4e49-d7bc-6e425852fa37"
      },
      "source": [
        "mu, sigma = data[\"Price\"].median(), data[\"Price\"].std() # media y desvio estandar\n",
        "normal = stats.norm(mu, sigma)\n",
        "\n",
        "a.Normal(data[\"Price\"], normal)\n",
        "a.Plot(\"Precio\",\"Frecuencia\",\"valores\")"
      ],
      "execution_count": 48,
      "outputs": [
        {
          "output_type": "display_data",
          "data": {
            "image/png": "[encoded data removed]",
            "text/plain": [
              "<Figure size 432x288 with 1 Axes>"
            ]
          },
          "metadata": {
            "tags": []
          }
        }
      ]
    },
    {
      "cell_type": "markdown",
      "metadata": {
        "id": "5s3pwoO1bEEB",
        "colab_type": "text"
      },
      "source": [
        "## Ejercico 2"
      ]
    },
    {
      "cell_type": "markdown",
      "metadata": {
        "id": "gRttogeXbkPy",
        "colab_type": "text"
      },
      "source": [
        "### A partir del siguiente conjunto de datos, obtener lo siguiente:\n",
        "\n",
        "* número de personas encuestadas\n",
        "* número de personas varones encuestados\n",
        "* número de personas mujeres encuestadas\n",
        "* ¿cuantos grupos hay?\n",
        "* ¿cuales son los grados de estudios que hay en la encuesta?\n",
        "* ¿cuantas personas hay por cada grado de estudio? \n",
        "* ¿cuantas personas tienen curso de preparación y cuantas no?\n",
        "\n",
        "de las columnas ***math score***, ***reading score*** y ***writing score*** obtener lo siguiente:\n",
        "\n",
        "* mínimo\n",
        "* máximo\n",
        "* promedio\n",
        "* ¿que tipo de dato es?(cada columna)\n",
        "* tipo de distribución\n",
        "* Histograma\n",
        "\n",
        "***Justifique sus respuestas***"
      ]
    },
    {
      "cell_type": "markdown",
      "metadata": {
        "id": "DLB-W0sNjpQ6",
        "colab_type": "text"
      },
      "source": [
        "#### Parte 1"
      ]
    },
    {
      "cell_type": "code",
      "metadata": {
        "id": "KP7tswwIXAwl",
        "colab_type": "code",
        "colab": {}
      },
      "source": [
        "data = pd.read_csv(\"https://raw.githubusercontent.com/AdrianSosaUV/ProgramacionEstadistica/master/StudentsPerformance.csv\")"
      ],
      "execution_count": 0,
      "outputs": []
    },
    {
      "cell_type": "code",
      "metadata": {
        "id": "u2ACrUXjY6hP",
        "colab_type": "code",
        "outputId": "b341fabd-f6b8-442d-8971-b3e15e3db89f",
        "colab": {
          "base_uri": "https://localhost:8080/",
          "height": 204
        }
      },
      "source": [
        "data.head()"
      ],
      "execution_count": 50,
      "outputs": [
        {
          "output_type": "execute_result",
          "data": {
            "text/html": [
              "<div>\n",
              "<style scoped>\n",
              "    .dataframe tbody tr th:only-of-type {\n",
              "        vertical-align: middle;\n",
              "    }\n",
              "\n",
              "    .dataframe tbody tr th {\n",
              "        vertical-align: top;\n",
              "    }\n",
              "\n",
              "    .dataframe thead th {\n",
              "        text-align: right;\n",
              "    }\n",
              "</style>\n",
              "<table border=\"1\" class=\"dataframe\">\n",
              "  <thead>\n",
              "    <tr style=\"text-align: right;\">\n",
              "      <th></th>\n",
              "      <th>gender</th>\n",
              "      <th>group</th>\n",
              "      <th>education</th>\n",
              "      <th>lunch</th>\n",
              "      <th>test preparation course</th>\n",
              "      <th>math score</th>\n",
              "      <th>reading score</th>\n",
              "      <th>writing score</th>\n",
              "    </tr>\n",
              "  </thead>\n",
              "  <tbody>\n",
              "    <tr>\n",
              "      <th>0</th>\n",
              "      <td>female</td>\n",
              "      <td>group B</td>\n",
              "      <td>bachelor's degree</td>\n",
              "      <td>standard</td>\n",
              "      <td>none</td>\n",
              "      <td>72</td>\n",
              "      <td>72</td>\n",
              "      <td>74</td>\n",
              "    </tr>\n",
              "    <tr>\n",
              "      <th>1</th>\n",
              "      <td>female</td>\n",
              "      <td>group C</td>\n",
              "      <td>some college</td>\n",
              "      <td>standard</td>\n",
              "      <td>completed</td>\n",
              "      <td>69</td>\n",
              "      <td>90</td>\n",
              "      <td>88</td>\n",
              "    </tr>\n",
              "    <tr>\n",
              "      <th>2</th>\n",
              "      <td>female</td>\n",
              "      <td>group B</td>\n",
              "      <td>master's degree</td>\n",
              "      <td>standard</td>\n",
              "      <td>none</td>\n",
              "      <td>90</td>\n",
              "      <td>95</td>\n",
              "      <td>93</td>\n",
              "    </tr>\n",
              "    <tr>\n",
              "      <th>3</th>\n",
              "      <td>male</td>\n",
              "      <td>group A</td>\n",
              "      <td>associate's degree</td>\n",
              "      <td>free/reduced</td>\n",
              "      <td>none</td>\n",
              "      <td>47</td>\n",
              "      <td>57</td>\n",
              "      <td>44</td>\n",
              "    </tr>\n",
              "    <tr>\n",
              "      <th>4</th>\n",
              "      <td>male</td>\n",
              "      <td>group C</td>\n",
              "      <td>some college</td>\n",
              "      <td>standard</td>\n",
              "      <td>none</td>\n",
              "      <td>76</td>\n",
              "      <td>78</td>\n",
              "      <td>75</td>\n",
              "    </tr>\n",
              "  </tbody>\n",
              "</table>\n",
              "</div>"
            ],
            "text/plain": [
              "   gender    group  ... reading score writing score\n",
              "0  female  group B  ...            72            74\n",
              "1  female  group C  ...            90            88\n",
              "2  female  group B  ...            95            93\n",
              "3    male  group A  ...            57            44\n",
              "4    male  group C  ...            78            75\n",
              "\n",
              "[5 rows x 8 columns]"
            ]
          },
          "metadata": {
            "tags": []
          },
          "execution_count": 50
        }
      ]
    },
    {
      "cell_type": "code",
      "metadata": {
        "id": "HUAu56m_dDqA",
        "colab_type": "code",
        "outputId": "6ebe33d7-2677-4231-9ed7-17789f41a956",
        "colab": {
          "base_uri": "https://localhost:8080/",
          "height": 34
        }
      },
      "source": [
        "data[\"gender\"].count()"
      ],
      "execution_count": 51,
      "outputs": [
        {
          "output_type": "execute_result",
          "data": {
            "text/plain": [
              "1000"
            ]
          },
          "metadata": {
            "tags": []
          },
          "execution_count": 51
        }
      ]
    },
    {
      "cell_type": "code",
      "metadata": {
        "id": "9tvmm_MAY71V",
        "colab_type": "code",
        "outputId": "6de01d1b-598e-4e26-9355-aafb4023befc",
        "colab": {
          "base_uri": "https://localhost:8080/",
          "height": 119
        }
      },
      "source": [
        "# personas encuestadas\n",
        "generos = data.groupby(by=\"gender\")\n",
        "print(\"encuestados: {} \\n\".format(data[\"gender\"].count()))\n",
        "print(\"varones: {}\\n\".format(generos.get_group(\"male\")[\"gender\"].count() ))\n",
        "print(\"mujeres: {}\\n\".format(generos.get_group(\"female\")[\"gender\"].count() ))"
      ],
      "execution_count": 52,
      "outputs": [
        {
          "output_type": "stream",
          "text": [
            "encuestados: 1000 \n",
            "\n",
            "varones: 482\n",
            "\n",
            "mujeres: 518\n",
            "\n"
          ],
          "name": "stdout"
        }
      ]
    },
    {
      "cell_type": "code",
      "metadata": {
        "id": "wZy22Qx1ZAoB",
        "colab_type": "code",
        "outputId": "9e5b9db3-3ffa-4aeb-d4dd-c3f1b6fa38e5",
        "colab": {
          "base_uri": "https://localhost:8080/",
          "height": 136
        }
      },
      "source": [
        "#grupos en la encuesta\n",
        "grupos = data.groupby(data[\"group\"]).count()\n",
        "grupos[\"gender\"]"
      ],
      "execution_count": 53,
      "outputs": [
        {
          "output_type": "execute_result",
          "data": {
            "text/plain": [
              "group\n",
              "group A     89\n",
              "group B    190\n",
              "group C    319\n",
              "group D    262\n",
              "group E    140\n",
              "Name: gender, dtype: int64"
            ]
          },
          "metadata": {
            "tags": []
          },
          "execution_count": 53
        }
      ]
    },
    {
      "cell_type": "code",
      "metadata": {
        "id": "4wfEVWjhaPKj",
        "colab_type": "code",
        "outputId": "49077b1d-daa3-4bb0-e1b6-14053d470b0b",
        "colab": {
          "base_uri": "https://localhost:8080/",
          "height": 153
        }
      },
      "source": [
        "#grados academicos\n",
        "academia = data.groupby(data[\"education\"]).count()\n",
        "academia[\"gender\"]"
      ],
      "execution_count": 54,
      "outputs": [
        {
          "output_type": "execute_result",
          "data": {
            "text/plain": [
              "education\n",
              "associate's degree    222\n",
              "bachelor's degree     118\n",
              "high school           196\n",
              "master's degree        59\n",
              "some college          226\n",
              "some high school      179\n",
              "Name: gender, dtype: int64"
            ]
          },
          "metadata": {
            "tags": []
          },
          "execution_count": 54
        }
      ]
    },
    {
      "cell_type": "code",
      "metadata": {
        "id": "Zp8KwY3BfX3u",
        "colab_type": "code",
        "outputId": "349c11b9-fc74-4eb9-aec3-be973cd7d068",
        "colab": {
          "base_uri": "https://localhost:8080/",
          "height": 425
        }
      },
      "source": [
        "degrees = [\"associate's degree\",\"bachelor's degree\",\"high school\",\"master's degree\",\"some college\",\"some high school\"]\n",
        "for i in degrees :\n",
        "  grupo = data.groupby(data[\"education\"]).get_group(i)\n",
        "  varones = grupo.groupby(\"gender\").get_group(\"male\")\n",
        "  mujeres = grupo.groupby(\"gender\").get_group(\"female\")\n",
        "  print(\"nivel academico: {}\". format(i))\n",
        "  print(\"varones: {}\".format(varones[\"gender\"].count()))\n",
        "  print(\"mujeres: {}\\n\".format(mujeres[\"gender\"].count()))"
      ],
      "execution_count": 55,
      "outputs": [
        {
          "output_type": "stream",
          "text": [
            "nivel academico: associate's degree\n",
            "varones: 106\n",
            "mujeres: 116\n",
            "\n",
            "nivel academico: bachelor's degree\n",
            "varones: 55\n",
            "mujeres: 63\n",
            "\n",
            "nivel academico: high school\n",
            "varones: 102\n",
            "mujeres: 94\n",
            "\n",
            "nivel academico: master's degree\n",
            "varones: 23\n",
            "mujeres: 36\n",
            "\n",
            "nivel academico: some college\n",
            "varones: 108\n",
            "mujeres: 118\n",
            "\n",
            "nivel academico: some high school\n",
            "varones: 88\n",
            "mujeres: 91\n",
            "\n"
          ],
          "name": "stdout"
        }
      ]
    },
    {
      "cell_type": "code",
      "metadata": {
        "id": "crwCsMhTiXKl",
        "colab_type": "code",
        "outputId": "ca1e4570-6347-479f-890d-b6ba3e5c4d6a",
        "colab": {
          "base_uri": "https://localhost:8080/",
          "height": 85
        }
      },
      "source": [
        "#curso de preparación\n",
        "curso = data.groupby(\"test preparation course\")\n",
        "curso[\"gender\"].count()"
      ],
      "execution_count": 56,
      "outputs": [
        {
          "output_type": "execute_result",
          "data": {
            "text/plain": [
              "test preparation course\n",
              "completed    358\n",
              "none         642\n",
              "Name: gender, dtype: int64"
            ]
          },
          "metadata": {
            "tags": []
          },
          "execution_count": 56
        }
      ]
    },
    {
      "cell_type": "markdown",
      "metadata": {
        "id": "hmp9VBncjbPC",
        "colab_type": "text"
      },
      "source": [
        "#### Parte 2"
      ]
    },
    {
      "cell_type": "code",
      "metadata": {
        "id": "MLuhCIM1abgZ",
        "colab_type": "code",
        "outputId": "0d7915f5-fd05-4229-8f6d-e649d3537835",
        "colab": {
          "base_uri": "https://localhost:8080/",
          "height": 1000
        }
      },
      "source": [
        " columnas = [\"math score\", \"reading score\" , \"writing score\"] \n",
        " a = Distribuciones()\n",
        " for i in columnas:\n",
        "   print(\"columna: {}\".format(i))\n",
        "   print(\"maximo: {}\".format(data[i].max()))\n",
        "   print(\"minimo: {}\".format(data[i].min()))\n",
        "   print(\"promedio: {}\\n\".format(data[i].mean()))\n",
        "   a.Histograma(data[i])\n",
        "   a.Plot(i,\"Frecuencia\",\"Valores\")\n",
        "\n",
        "   mu, sigma = data[i].median(), data[i].std() # media y desvio estandar\n",
        "   normal = stats.norm(mu, sigma)\n",
        "\n",
        "   a.Normal(data[i], normal, 'o')\n",
        "   a.Plot(i,\"Frecuencia\",\"valores\")\n",
        "\n"
      ],
      "execution_count": 58,
      "outputs": [
        {
          "output_type": "stream",
          "text": [
            "columna: math score\n",
            "maximo: 100\n",
            "minimo: 0\n",
            "promedio: 66.089\n",
            "\n"
          ],
          "name": "stdout"
        },
        {
          "output_type": "display_data",
          "data": {
            "image/png": "[encoded data removed]",
            "text/plain": [
              "<Figure size 432x288 with 1 Axes>"
            ]
          },
          "metadata": {
            "tags": []
          }
        },
        {
          "output_type": "display_data",
          "data": {
            "image/png": "[encoded data removed]",
            "text/plain": [
              "<Figure size 432x288 with 1 Axes>"
            ]
          },
          "metadata": {
            "tags": []
          }
        },
        {
          "output_type": "stream",
          "text": [
            "columna: reading score\n",
            "maximo: 100\n",
            "minimo: 17\n",
            "promedio: 69.169\n",
            "\n"
          ],
          "name": "stdout"
        },
        {
          "output_type": "display_data",
          "data": {
            "image/png": "[encoded data removed]",
            "text/plain": [
              "<Figure size 432x288 with 1 Axes>"
            ]
          },
          "metadata": {
            "tags": []
          }
        },
        {
          "output_type": "display_data",
          "data": {
            "image/png": "[encoded data removed]",
            "text/plain": [
              "<Figure size 432x288 with 1 Axes>"
            ]
          },
          "metadata": {
            "tags": []
          }
        },
        {
          "output_type": "stream",
          "text": [
            "columna: writing score\n",
            "maximo: 100\n",
            "minimo: 10\n",
            "promedio: 68.054\n",
            "\n"
          ],
          "name": "stdout"
        },
        {
          "output_type": "display_data",
          "data": {
            "image/png": "[encoded data removed]",
            "text/plain": [
              "<Figure size 432x288 with 1 Axes>"
            ]
          },
          "metadata": {
            "tags": []
          }
        },
        {
          "output_type": "display_data",
          "data": {
            "image/png": "[encoded data removed]",
            "text/plain": [
              "<Figure size 432x288 with 1 Axes>"
            ]
          },
          "metadata": {
            "tags": []
          }
        }
      ]
    },
    {
      "cell_type": "code",
      "metadata": {
        "id": "2myUBvzwqUw_",
        "colab_type": "code",
        "colab": {}
      },
      "source": [
        ""
      ],
      "execution_count": 0,
      "outputs": []
    }
  ]
}